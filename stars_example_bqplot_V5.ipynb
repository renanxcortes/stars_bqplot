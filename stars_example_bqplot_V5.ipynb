{
 "cells": [
  {
   "cell_type": "markdown",
   "metadata": {},
   "source": [
    "# STARS base plots in bqplot"
   ]
  },
  {
   "cell_type": "markdown",
   "metadata": {},
   "source": [
    "## Loading Data and initial wrangling"
   ]
  },
  {
   "cell_type": "code",
   "execution_count": 33,
   "metadata": {},
   "outputs": [],
   "source": [
    "# I had to update some jupyter components before installing bqplot\n",
    "# conda update jupyter_core jupyter_client\n",
    "# conda install -c conda-forge bqplot\n",
    "import bqplot as bq\n",
    "import pandas as pd\n",
    "import pysal as ps\n",
    "from libpysal.weights.contiguity import *\n",
    "import bqplot.pyplot as plt\n",
    "import geopandas as gpd\n",
    "import numpy as np\n",
    "from bqplot.interacts import (\n",
    "    FastIntervalSelector, IndexSelector, BrushIntervalSelector,\n",
    "    BrushSelector, MultiSelector, LassoSelector, PanZoom, HandDraw\n",
    ")\n",
    "from ipywidgets import ToggleButtons, VBox, HTML\n",
    "import re\n",
    "from scipy import stats\n",
    "from bqplot import * # Imports Figure, Map, Mercator, Orthographic, ColorScale, ColorAxis, AlbersUSA, topo_load, Tooltip, Scatter, Lines, etc."
   ]
  },
  {
   "cell_type": "code",
   "execution_count": 34,
   "metadata": {},
   "outputs": [],
   "source": [
    "csv_path = ps.examples.get_path('usjoin.csv')\n",
    "usjoin = pd.read_csv(csv_path)"
   ]
  },
  {
   "cell_type": "code",
   "execution_count": 35,
   "metadata": {},
   "outputs": [],
   "source": [
    "years = list(range(1929, 2010))                  \n",
    "cols_to_calculate = list(map(str, years))"
   ]
  },
  {
   "cell_type": "code",
   "execution_count": 36,
   "metadata": {},
   "outputs": [],
   "source": [
    "shp_path = ps.examples.get_path('us48.shp')\n",
    "us48_map = gpd.read_file(shp_path)\n",
    "us48_map = us48_map[['STATE_FIPS','geometry']]\n",
    "us48_map.STATE_FIPS = us48_map.STATE_FIPS.astype(int)\n",
    "df_map = us48_map.merge(usjoin, on='STATE_FIPS')"
   ]
  },
  {
   "cell_type": "code",
   "execution_count": 37,
   "metadata": {},
   "outputs": [
    {
     "data": {
      "text/html": [
       "<div>\n",
       "<style scoped>\n",
       "    .dataframe tbody tr th:only-of-type {\n",
       "        vertical-align: middle;\n",
       "    }\n",
       "\n",
       "    .dataframe tbody tr th {\n",
       "        vertical-align: top;\n",
       "    }\n",
       "\n",
       "    .dataframe thead th {\n",
       "        text-align: right;\n",
       "    }\n",
       "</style>\n",
       "<table border=\"1\" class=\"dataframe\">\n",
       "  <thead>\n",
       "    <tr style=\"text-align: right;\">\n",
       "      <th></th>\n",
       "      <th>STATE_FIPS</th>\n",
       "      <th>geometry</th>\n",
       "      <th>Name</th>\n",
       "      <th>1929</th>\n",
       "      <th>1930</th>\n",
       "      <th>1931</th>\n",
       "      <th>1932</th>\n",
       "      <th>1933</th>\n",
       "      <th>1934</th>\n",
       "      <th>1935</th>\n",
       "      <th>...</th>\n",
       "      <th>2000</th>\n",
       "      <th>2001</th>\n",
       "      <th>2002</th>\n",
       "      <th>2003</th>\n",
       "      <th>2004</th>\n",
       "      <th>2005</th>\n",
       "      <th>2006</th>\n",
       "      <th>2007</th>\n",
       "      <th>2008</th>\n",
       "      <th>2009</th>\n",
       "    </tr>\n",
       "  </thead>\n",
       "  <tbody>\n",
       "    <tr>\n",
       "      <th>0</th>\n",
       "      <td>53</td>\n",
       "      <td>(POLYGON ((-122.400749206543 48.22539520263672...</td>\n",
       "      <td>Washington</td>\n",
       "      <td>741</td>\n",
       "      <td>658</td>\n",
       "      <td>534</td>\n",
       "      <td>402</td>\n",
       "      <td>376</td>\n",
       "      <td>443</td>\n",
       "      <td>490</td>\n",
       "      <td>...</td>\n",
       "      <td>31528</td>\n",
       "      <td>32053</td>\n",
       "      <td>32206</td>\n",
       "      <td>32934</td>\n",
       "      <td>34984</td>\n",
       "      <td>35738</td>\n",
       "      <td>38477</td>\n",
       "      <td>40782</td>\n",
       "      <td>41588</td>\n",
       "      <td>40619</td>\n",
       "    </tr>\n",
       "    <tr>\n",
       "      <th>1</th>\n",
       "      <td>30</td>\n",
       "      <td>POLYGON ((-111.4746322631836 44.70223999023438...</td>\n",
       "      <td>Montana</td>\n",
       "      <td>592</td>\n",
       "      <td>501</td>\n",
       "      <td>382</td>\n",
       "      <td>339</td>\n",
       "      <td>298</td>\n",
       "      <td>364</td>\n",
       "      <td>476</td>\n",
       "      <td>...</td>\n",
       "      <td>22569</td>\n",
       "      <td>24342</td>\n",
       "      <td>24699</td>\n",
       "      <td>25963</td>\n",
       "      <td>27517</td>\n",
       "      <td>28987</td>\n",
       "      <td>30942</td>\n",
       "      <td>32625</td>\n",
       "      <td>33293</td>\n",
       "      <td>32699</td>\n",
       "    </tr>\n",
       "    <tr>\n",
       "      <th>2</th>\n",
       "      <td>23</td>\n",
       "      <td>(POLYGON ((-69.77778625488281 44.0740737915039...</td>\n",
       "      <td>Maine</td>\n",
       "      <td>601</td>\n",
       "      <td>576</td>\n",
       "      <td>491</td>\n",
       "      <td>377</td>\n",
       "      <td>371</td>\n",
       "      <td>416</td>\n",
       "      <td>430</td>\n",
       "      <td>...</td>\n",
       "      <td>25623</td>\n",
       "      <td>27068</td>\n",
       "      <td>27731</td>\n",
       "      <td>28727</td>\n",
       "      <td>30201</td>\n",
       "      <td>30721</td>\n",
       "      <td>32340</td>\n",
       "      <td>33620</td>\n",
       "      <td>34906</td>\n",
       "      <td>35268</td>\n",
       "    </tr>\n",
       "    <tr>\n",
       "      <th>3</th>\n",
       "      <td>38</td>\n",
       "      <td>POLYGON ((-98.73005676269531 45.93829727172852...</td>\n",
       "      <td>North Dakota</td>\n",
       "      <td>382</td>\n",
       "      <td>311</td>\n",
       "      <td>187</td>\n",
       "      <td>176</td>\n",
       "      <td>146</td>\n",
       "      <td>180</td>\n",
       "      <td>272</td>\n",
       "      <td>...</td>\n",
       "      <td>25068</td>\n",
       "      <td>26118</td>\n",
       "      <td>26770</td>\n",
       "      <td>29109</td>\n",
       "      <td>29676</td>\n",
       "      <td>31644</td>\n",
       "      <td>32856</td>\n",
       "      <td>35882</td>\n",
       "      <td>39009</td>\n",
       "      <td>38672</td>\n",
       "    </tr>\n",
       "    <tr>\n",
       "      <th>4</th>\n",
       "      <td>46</td>\n",
       "      <td>POLYGON ((-102.7879333496094 42.99532318115234...</td>\n",
       "      <td>South Dakota</td>\n",
       "      <td>426</td>\n",
       "      <td>366</td>\n",
       "      <td>241</td>\n",
       "      <td>189</td>\n",
       "      <td>129</td>\n",
       "      <td>184</td>\n",
       "      <td>309</td>\n",
       "      <td>...</td>\n",
       "      <td>26115</td>\n",
       "      <td>27531</td>\n",
       "      <td>27727</td>\n",
       "      <td>30072</td>\n",
       "      <td>31765</td>\n",
       "      <td>32726</td>\n",
       "      <td>33320</td>\n",
       "      <td>35998</td>\n",
       "      <td>38188</td>\n",
       "      <td>36499</td>\n",
       "    </tr>\n",
       "  </tbody>\n",
       "</table>\n",
       "<p>5 rows × 84 columns</p>\n",
       "</div>"
      ],
      "text/plain": [
       "   STATE_FIPS                                           geometry  \\\n",
       "0          53  (POLYGON ((-122.400749206543 48.22539520263672...   \n",
       "1          30  POLYGON ((-111.4746322631836 44.70223999023438...   \n",
       "2          23  (POLYGON ((-69.77778625488281 44.0740737915039...   \n",
       "3          38  POLYGON ((-98.73005676269531 45.93829727172852...   \n",
       "4          46  POLYGON ((-102.7879333496094 42.99532318115234...   \n",
       "\n",
       "           Name  1929  1930  1931  1932  1933  1934  1935  ...     2000  \\\n",
       "0    Washington   741   658   534   402   376   443   490  ...    31528   \n",
       "1       Montana   592   501   382   339   298   364   476  ...    22569   \n",
       "2         Maine   601   576   491   377   371   416   430  ...    25623   \n",
       "3  North Dakota   382   311   187   176   146   180   272  ...    25068   \n",
       "4  South Dakota   426   366   241   189   129   184   309  ...    26115   \n",
       "\n",
       "    2001   2002   2003   2004   2005   2006   2007   2008   2009  \n",
       "0  32053  32206  32934  34984  35738  38477  40782  41588  40619  \n",
       "1  24342  24699  25963  27517  28987  30942  32625  33293  32699  \n",
       "2  27068  27731  28727  30201  30721  32340  33620  34906  35268  \n",
       "3  26118  26770  29109  29676  31644  32856  35882  39009  38672  \n",
       "4  27531  27727  30072  31765  32726  33320  35998  38188  36499  \n",
       "\n",
       "[5 rows x 84 columns]"
      ]
     },
     "execution_count": 37,
     "metadata": {},
     "output_type": "execute_result"
    }
   ],
   "source": [
    "df_map.head()"
   ]
  },
  {
   "cell_type": "code",
   "execution_count": 38,
   "metadata": {},
   "outputs": [],
   "source": [
    "# Making the dataset tidy\n",
    "us_tidy = pd.melt(df_map, \n",
    "                  id_vars=['Name', 'STATE_FIPS', 'geometry'],\n",
    "                  value_vars=cols_to_calculate, \n",
    "                  var_name='Year', \n",
    "                  value_name='Income')\n",
    "\n",
    "# Function that calculates Per Capita Ratio\n",
    "def calculate_pcr(x):\n",
    "    return x / np.mean(x)\n",
    "\n",
    "# Establishing a contiguity matrix for a specific year. It is the same for all years.\n",
    "W = Queen.from_dataframe(us_tidy[us_tidy.Year == '1929'])\n",
    "W.transform = 'r'\n",
    "\n",
    "# Function that calculates lagged value\n",
    "def calculate_lag_value(x):\n",
    "    return ps.lag_spatial(W, x)\n",
    "\n",
    "# In the first function (calculate_pcr), a series is returned, in the second (calculate_lag_value), an array, so the assign method is used to keep the indexes of the pandas Dataframe\n",
    "\n",
    "us_tidy['PCR'] = us_tidy.groupby('Year').Income.apply(lambda x: calculate_pcr(x))\n",
    "us_tidy = us_tidy.assign(Income_Lagged = us_tidy.groupby('Year').Income.transform(calculate_lag_value),\n",
    "                         PCR_Lagged = us_tidy.groupby('Year').PCR.transform(calculate_lag_value))"
   ]
  },
  {
   "cell_type": "code",
   "execution_count": 39,
   "metadata": {},
   "outputs": [
    {
     "data": {
      "text/html": [
       "<div>\n",
       "<style scoped>\n",
       "    .dataframe tbody tr th:only-of-type {\n",
       "        vertical-align: middle;\n",
       "    }\n",
       "\n",
       "    .dataframe tbody tr th {\n",
       "        vertical-align: top;\n",
       "    }\n",
       "\n",
       "    .dataframe thead th {\n",
       "        text-align: right;\n",
       "    }\n",
       "</style>\n",
       "<table border=\"1\" class=\"dataframe\">\n",
       "  <thead>\n",
       "    <tr style=\"text-align: right;\">\n",
       "      <th></th>\n",
       "      <th>Name</th>\n",
       "      <th>STATE_FIPS</th>\n",
       "      <th>geometry</th>\n",
       "      <th>Year</th>\n",
       "      <th>Income</th>\n",
       "      <th>PCR</th>\n",
       "      <th>Income_Lagged</th>\n",
       "      <th>PCR_Lagged</th>\n",
       "    </tr>\n",
       "  </thead>\n",
       "  <tbody>\n",
       "    <tr>\n",
       "      <th>0</th>\n",
       "      <td>Washington</td>\n",
       "      <td>53</td>\n",
       "      <td>(POLYGON ((-122.400749206543 48.22539520263672...</td>\n",
       "      <td>1929</td>\n",
       "      <td>741</td>\n",
       "      <td>1.204470</td>\n",
       "      <td>587.500000</td>\n",
       "      <td>0.954961</td>\n",
       "    </tr>\n",
       "    <tr>\n",
       "      <th>1</th>\n",
       "      <td>Montana</td>\n",
       "      <td>30</td>\n",
       "      <td>POLYGON ((-111.4746322631836 44.70223999023438...</td>\n",
       "      <td>1929</td>\n",
       "      <td>592</td>\n",
       "      <td>0.962276</td>\n",
       "      <td>497.500000</td>\n",
       "      <td>0.808669</td>\n",
       "    </tr>\n",
       "    <tr>\n",
       "      <th>2</th>\n",
       "      <td>Maine</td>\n",
       "      <td>23</td>\n",
       "      <td>(POLYGON ((-69.77778625488281 44.0740737915039...</td>\n",
       "      <td>1929</td>\n",
       "      <td>601</td>\n",
       "      <td>0.976905</td>\n",
       "      <td>686.000000</td>\n",
       "      <td>1.115069</td>\n",
       "    </tr>\n",
       "    <tr>\n",
       "      <th>3</th>\n",
       "      <td>North Dakota</td>\n",
       "      <td>38</td>\n",
       "      <td>POLYGON ((-98.73005676269531 45.93829727172852...</td>\n",
       "      <td>1929</td>\n",
       "      <td>382</td>\n",
       "      <td>0.620928</td>\n",
       "      <td>539.000000</td>\n",
       "      <td>0.876126</td>\n",
       "    </tr>\n",
       "    <tr>\n",
       "      <th>4</th>\n",
       "      <td>South Dakota</td>\n",
       "      <td>46</td>\n",
       "      <td>POLYGON ((-102.7879333496094 42.99532318115234...</td>\n",
       "      <td>1929</td>\n",
       "      <td>426</td>\n",
       "      <td>0.692448</td>\n",
       "      <td>570.833333</td>\n",
       "      <td>0.927870</td>\n",
       "    </tr>\n",
       "  </tbody>\n",
       "</table>\n",
       "</div>"
      ],
      "text/plain": [
       "           Name  STATE_FIPS  \\\n",
       "0    Washington          53   \n",
       "1       Montana          30   \n",
       "2         Maine          23   \n",
       "3  North Dakota          38   \n",
       "4  South Dakota          46   \n",
       "\n",
       "                                            geometry  Year  Income       PCR  \\\n",
       "0  (POLYGON ((-122.400749206543 48.22539520263672...  1929     741  1.204470   \n",
       "1  POLYGON ((-111.4746322631836 44.70223999023438...  1929     592  0.962276   \n",
       "2  (POLYGON ((-69.77778625488281 44.0740737915039...  1929     601  0.976905   \n",
       "3  POLYGON ((-98.73005676269531 45.93829727172852...  1929     382  0.620928   \n",
       "4  POLYGON ((-102.7879333496094 42.99532318115234...  1929     426  0.692448   \n",
       "\n",
       "   Income_Lagged  PCR_Lagged  \n",
       "0     587.500000    0.954961  \n",
       "1     497.500000    0.808669  \n",
       "2     686.000000    1.115069  \n",
       "3     539.000000    0.876126  \n",
       "4     570.833333    0.927870  "
      ]
     },
     "execution_count": 39,
     "metadata": {},
     "output_type": "execute_result"
    }
   ],
   "source": [
    "us_tidy.head()"
   ]
  },
  {
   "cell_type": "markdown",
   "metadata": {},
   "source": [
    "## Choropleth Map"
   ]
  },
  {
   "cell_type": "code",
   "execution_count": 40,
   "metadata": {},
   "outputs": [
    {
     "data": {
      "text/html": [
       "<div>\n",
       "<style scoped>\n",
       "    .dataframe tbody tr th:only-of-type {\n",
       "        vertical-align: middle;\n",
       "    }\n",
       "\n",
       "    .dataframe tbody tr th {\n",
       "        vertical-align: top;\n",
       "    }\n",
       "\n",
       "    .dataframe thead th {\n",
       "        text-align: right;\n",
       "    }\n",
       "</style>\n",
       "<table border=\"1\" class=\"dataframe\">\n",
       "  <thead>\n",
       "    <tr style=\"text-align: right;\">\n",
       "      <th></th>\n",
       "      <th>Name</th>\n",
       "      <th>STATE_FIPS</th>\n",
       "      <th>geometry</th>\n",
       "      <th>Year</th>\n",
       "      <th>Income</th>\n",
       "      <th>PCR</th>\n",
       "      <th>Income_Lagged</th>\n",
       "      <th>PCR_Lagged</th>\n",
       "    </tr>\n",
       "  </thead>\n",
       "  <tbody>\n",
       "    <tr>\n",
       "      <th>3840</th>\n",
       "      <td>Washington</td>\n",
       "      <td>53</td>\n",
       "      <td>(POLYGON ((-122.400749206543 48.22539520263672...</td>\n",
       "      <td>2009</td>\n",
       "      <td>40619</td>\n",
       "      <td>1.091761</td>\n",
       "      <td>33098.5</td>\n",
       "      <td>0.889625</td>\n",
       "    </tr>\n",
       "    <tr>\n",
       "      <th>3841</th>\n",
       "      <td>Montana</td>\n",
       "      <td>30</td>\n",
       "      <td>POLYGON ((-111.4746322631836 44.70223999023438...</td>\n",
       "      <td>2009</td>\n",
       "      <td>32699</td>\n",
       "      <td>0.878887</td>\n",
       "      <td>37165.5</td>\n",
       "      <td>0.998938</td>\n",
       "    </tr>\n",
       "    <tr>\n",
       "      <th>3842</th>\n",
       "      <td>Maine</td>\n",
       "      <td>23</td>\n",
       "      <td>(POLYGON ((-69.77778625488281 44.0740737915039...</td>\n",
       "      <td>2009</td>\n",
       "      <td>35268</td>\n",
       "      <td>0.947937</td>\n",
       "      <td>41882.0</td>\n",
       "      <td>1.125708</td>\n",
       "    </tr>\n",
       "    <tr>\n",
       "      <th>3843</th>\n",
       "      <td>North Dakota</td>\n",
       "      <td>38</td>\n",
       "      <td>POLYGON ((-98.73005676269531 45.93829727172852...</td>\n",
       "      <td>2009</td>\n",
       "      <td>38672</td>\n",
       "      <td>1.039430</td>\n",
       "      <td>36706.0</td>\n",
       "      <td>0.986587</td>\n",
       "    </tr>\n",
       "    <tr>\n",
       "      <th>3844</th>\n",
       "      <td>South Dakota</td>\n",
       "      <td>46</td>\n",
       "      <td>POLYGON ((-102.7879333496094 42.99532318115234...</td>\n",
       "      <td>2009</td>\n",
       "      <td>36499</td>\n",
       "      <td>0.981024</td>\n",
       "      <td>37972.5</td>\n",
       "      <td>1.020628</td>\n",
       "    </tr>\n",
       "  </tbody>\n",
       "</table>\n",
       "</div>"
      ],
      "text/plain": [
       "              Name  STATE_FIPS  \\\n",
       "3840    Washington          53   \n",
       "3841       Montana          30   \n",
       "3842         Maine          23   \n",
       "3843  North Dakota          38   \n",
       "3844  South Dakota          46   \n",
       "\n",
       "                                               geometry  Year  Income  \\\n",
       "3840  (POLYGON ((-122.400749206543 48.22539520263672...  2009   40619   \n",
       "3841  POLYGON ((-111.4746322631836 44.70223999023438...  2009   32699   \n",
       "3842  (POLYGON ((-69.77778625488281 44.0740737915039...  2009   35268   \n",
       "3843  POLYGON ((-98.73005676269531 45.93829727172852...  2009   38672   \n",
       "3844  POLYGON ((-102.7879333496094 42.99532318115234...  2009   36499   \n",
       "\n",
       "           PCR  Income_Lagged  PCR_Lagged  \n",
       "3840  1.091761        33098.5    0.889625  \n",
       "3841  0.878887        37165.5    0.998938  \n",
       "3842  0.947937        41882.0    1.125708  \n",
       "3843  1.039430        36706.0    0.986587  \n",
       "3844  0.981024        37972.5    1.020628  "
      ]
     },
     "execution_count": 40,
     "metadata": {},
     "output_type": "execute_result"
    }
   ],
   "source": [
    "year = 2009\n",
    "us_aux = us_tidy[us_tidy.Year == str(year)]\n",
    "us_aux.head()"
   ]
  },
  {
   "cell_type": "code",
   "execution_count": 41,
   "metadata": {},
   "outputs": [],
   "source": [
    "base_json = topo_load('map_data/USStatesMap.json')"
   ]
  },
  {
   "cell_type": "code",
   "execution_count": 42,
   "metadata": {},
   "outputs": [],
   "source": [
    "# List of indexes (ids) of the json file\n",
    "x = []\n",
    "for i in range(len(base_json['objects']['subunits']['geometries'])):\n",
    "    aux = base_json['objects']['subunits']['geometries'][i]['id']\n",
    "    x.append(aux)"
   ]
  },
  {
   "cell_type": "code",
   "execution_count": 43,
   "metadata": {},
   "outputs": [],
   "source": [
    "# Some 'states' didn't have value, so I had to create this condition statement\n",
    "v = []\n",
    "for i in x:\n",
    "    if (len(us_aux[us_aux.STATE_FIPS == i].PCR.values.astype(float)) == 1):\n",
    "        aux = us_aux[us_aux.STATE_FIPS == i].PCR.values.astype(float).item()\n",
    "    else:\n",
    "        aux = 0\n",
    "    v.append(aux)"
   ]
  },
  {
   "cell_type": "code",
   "execution_count": 48,
   "metadata": {},
   "outputs": [],
   "source": [
    "# There were some Polygons that didn't have 'properties' such as:\n",
    "# base_json['objects']['subunits']['geometries'][35]['properties']\n",
    "# This was between Kentucky and Arizona\n",
    "\n",
    "# This was tricky because I had to make a loop to insert income values of this specific list in only the id's that actually was in the unique list of the id's of the dataset.\n",
    "\n",
    "for i in range(len(x)):\n",
    "    if (pd.Series(base_json['objects']['subunits']['geometries'][i]['id']).isin(us_aux.STATE_FIPS).values[0]):\n",
    "        base_json['objects']['subunits']['geometries'][i]['properties']['PCR_Value'] = v[i]"
   ]
  },
  {
   "cell_type": "markdown",
   "metadata": {},
   "source": [
    "Converting to a Choropleth map."
   ]
  },
  {
   "cell_type": "code",
   "execution_count": 49,
   "metadata": {},
   "outputs": [
    {
     "data": {
      "application/vnd.jupyter.widget-view+json": {
       "model_id": "f9e030d6744f4faf8366a7031c10404a",
       "version_major": 2,
       "version_minor": 0
      },
      "text/plain": [
       "Figure(axes=[ColorAxis(scale=ColorScale(scheme='YlOrRd'))], fig_margin={'top': 0, 'bottom': 0, 'left': 0, 'rig…"
      ]
     },
     "metadata": {},
     "output_type": "display_data"
    }
   ],
   "source": [
    "sc_geo = AlbersUSA()\n",
    "\n",
    "# In the example of bqplot the colors of the map_styles relates the 'id' of the json file and a 'variable number' of the color\n",
    "sc_c1 = ColorScale(scheme='YlOrRd')\n",
    "axis = ColorAxis(scale=sc_c1)\n",
    "\n",
    "color_dict = dict(zip(us_aux.STATE_FIPS, us_aux.PCR))\n",
    "\n",
    "map_styles = {'color': color_dict,\n",
    "              'scales': {'projection': sc_geo, 'color': sc_c1}, \n",
    "              'colors': {'default_color': 'Grey'}}\n",
    "\n",
    "def_tt = Tooltip(fields=['name', 'PCR_Value'], formats = ['','0.3f'], labels = ['Name: ', 'PCR: '])\n",
    "choro_map = Map(map_data=base_json, **map_styles, tooltip=def_tt)\n",
    "choro_map.interactions = {'click': 'select', 'hover': 'tooltip'}\n",
    "choro_map = Figure(marks=[choro_map], \n",
    "                   axes=[axis], \n",
    "                   title='Choropleth Example for ' + str(year), \n",
    "                   fig_margin={'top': 0, 'bottom': 0, 'left': 0, 'right': 0})\n",
    "choro_map"
   ]
  },
  {
   "cell_type": "markdown",
   "metadata": {},
   "source": [
    "## Scatter plot"
   ]
  },
  {
   "cell_type": "markdown",
   "metadata": {},
   "source": [
    "### Basic"
   ]
  },
  {
   "cell_type": "code",
   "execution_count": 52,
   "metadata": {},
   "outputs": [
    {
     "ename": "TypeError",
     "evalue": "'Int64Index' object is not callable",
     "output_type": "error",
     "traceback": [
      "\u001b[1;31m---------------------------------------------------------------------------\u001b[0m",
      "\u001b[1;31mTypeError\u001b[0m                                 Traceback (most recent call last)",
      "\u001b[1;32m<ipython-input-52-50724f4f0130>\u001b[0m in \u001b[0;36m<module>\u001b[1;34m()\u001b[0m\n\u001b[0;32m      7\u001b[0m \u001b[0mbs_ax_y\u001b[0m \u001b[1;33m=\u001b[0m \u001b[0mbq\u001b[0m\u001b[1;33m.\u001b[0m\u001b[0mAxis\u001b[0m\u001b[1;33m(\u001b[0m\u001b[0mlabel\u001b[0m\u001b[1;33m=\u001b[0m\u001b[1;34m'Lagged Variable'\u001b[0m\u001b[1;33m,\u001b[0m \u001b[0mscale\u001b[0m\u001b[1;33m=\u001b[0m\u001b[0mbs_sc_y\u001b[0m\u001b[1;33m,\u001b[0m \u001b[0morientation\u001b[0m\u001b[1;33m=\u001b[0m\u001b[1;34m'vertical'\u001b[0m\u001b[1;33m)\u001b[0m\u001b[1;33m\u001b[0m\u001b[0m\n\u001b[0;32m      8\u001b[0m \u001b[1;33m\u001b[0m\u001b[0m\n\u001b[1;32m----> 9\u001b[1;33m \u001b[0mindex\u001b[0m \u001b[1;33m=\u001b[0m \u001b[0mus_aux\u001b[0m\u001b[1;33m.\u001b[0m\u001b[0mName\u001b[0m\u001b[1;33m.\u001b[0m\u001b[0mindex\u001b[0m\u001b[1;33m(\u001b[0m\u001b[1;34m'California'\u001b[0m\u001b[1;33m)\u001b[0m\u001b[1;33m\u001b[0m\u001b[0m\n\u001b[0m\u001b[0;32m     10\u001b[0m \u001b[0mbs_sc_colors\u001b[0m \u001b[1;33m=\u001b[0m \u001b[0mLinearScale\u001b[0m\u001b[1;33m(\u001b[0m\u001b[1;33m)\u001b[0m\u001b[1;33m\u001b[0m\u001b[0m\n\u001b[0;32m     11\u001b[0m \u001b[0mtest\u001b[0m \u001b[1;33m=\u001b[0m \u001b[1;33m[\u001b[0m\u001b[1;34m'blue'\u001b[0m\u001b[1;33m]\u001b[0m \u001b[1;33m*\u001b[0m \u001b[0mlen\u001b[0m\u001b[1;33m(\u001b[0m\u001b[0mscat_Var\u001b[0m\u001b[1;33m)\u001b[0m\u001b[1;33m\u001b[0m\u001b[0m\n",
      "\u001b[1;31mTypeError\u001b[0m: 'Int64Index' object is not callable"
     ]
    }
   ],
   "source": [
    "scat_Var = us_aux.PCR\n",
    "scat_VarLag = us_aux.PCR_Lagged\n",
    "\n",
    "bs_sc_x = bq.LinearScale(min = min(us_tidy.PCR), max = max(us_tidy.PCR))\n",
    "bs_sc_y = bq.LinearScale(min = min(us_tidy.PCR_Lagged), max = max(us_tidy.PCR_Lagged))\n",
    "bs_ax_x = bq.Axis(label='Original Variable', scale=bs_sc_x)\n",
    "bs_ax_y = bq.Axis(label='Lagged Variable', scale=bs_sc_y, orientation='vertical')\n",
    "\n",
    "index = us_aux.Name.index('California')\n",
    "bs_sc_colors = LinearScale()\n",
    "test = ['blue'] * len(scat_Var)\n",
    "test[index] = 'red'\n",
    "\n",
    "bs_sc_sizes = LinearScale(min = -1, max = 1)\n",
    "test2 = [0] * len(scat_Var)\n",
    "test2[index] = 5\n",
    "\n",
    "# The 'names' field shoul be 'name' in bqplot: https://github.com/bloomberg/bqplot/blob/master/examples/Applications/Wealth%20of%20Nations.ipynb\n",
    "scatt_tt = Tooltip(fields = ['name', 'x', 'y'], labels = ['Name: ', 'PCR: ', 'PCR Lagged: '], formats = ['', '0.3f', '0.3f'])\n",
    "\n",
    "scatt_plot = Scatter(x = scat_Var, \n",
    "                     y = scat_VarLag, \n",
    "                     names = us_aux.Name.tolist(),\n",
    "                     labels = us_aux.Name.tolist(),\n",
    "                     scales = {'x': bs_sc_x, \n",
    "                               'y': bs_sc_y,\n",
    "                               'colors': bs_sc_colors,\n",
    "                               'size': bs_sc_sizes}, \n",
    "                     colors = test,\n",
    "                     size = test2,\n",
    "                     tooltip = scatt_tt,\n",
    "                     unhovered_style={'opacity': 0.25}\n",
    "                    )\n",
    "\n",
    "b,a = np.polyfit(scat_Var, scat_VarLag, 1)\n",
    "x_reg = [min(us_tidy.PCR), max(us_tidy.PCR)]\n",
    "y_reg = [a + i * b for i in x_reg]\n",
    "\n",
    "reg_line = Lines(x = x_reg, \n",
    "                 y = y_reg, \n",
    "                 scales={'x': bs_sc_x, \n",
    "                         'y': bs_sc_y}, \n",
    "                 colors = ['black'])\n",
    "\n",
    "basic_scatter = bq.Figure(axes=[bs_ax_x, bs_ax_y], marks=[scatt_plot, reg_line], title = 'Scatterplot for '+ str(year))\n",
    "basic_scatter"
   ]
  },
  {
   "cell_type": "code",
   "execution_count": 55,
   "metadata": {},
   "outputs": [
    {
     "data": {
      "text/plain": [
       "'Washington'"
      ]
     },
     "execution_count": 55,
     "metadata": {},
     "output_type": "execute_result"
    }
   ],
   "source": [
    "us_aux.Name.values.index"
   ]
  },
  {
   "cell_type": "markdown",
   "metadata": {},
   "source": [
    "### With dynamic regression from box select"
   ]
  },
  {
   "cell_type": "code",
   "execution_count": 15,
   "metadata": {},
   "outputs": [
    {
     "data": {
      "application/vnd.jupyter.widget-view+json": {
       "model_id": "01ba98b734854adbb6205937d61c9bcd",
       "version_major": 2,
       "version_minor": 0
      },
      "text/plain": [
       "Figure(axes=[Axis(label='Original Variable', scale=LinearScale(max=1.9341917024320459, min=0.36337625178826893…"
      ]
     },
     "metadata": {},
     "output_type": "display_data"
    },
    {
     "ename": "TypeError",
     "evalue": "expected non-empty vector for x",
     "output_type": "error",
     "traceback": [
      "\u001b[1;31m---------------------------------------------------------------------------\u001b[0m",
      "\u001b[1;31mTypeError\u001b[0m                                 Traceback (most recent call last)",
      "\u001b[1;32m~\\AppData\\Local\\Continuum\\anaconda3\\lib\\site-packages\\ipywidgets\\widgets\\widget.py\u001b[0m in \u001b[0;36m_handle_msg\u001b[1;34m(self, msg)\u001b[0m\n\u001b[0;32m    667\u001b[0m                 \u001b[1;32mif\u001b[0m \u001b[1;34m'buffer_paths'\u001b[0m \u001b[1;32min\u001b[0m \u001b[0mdata\u001b[0m\u001b[1;33m:\u001b[0m\u001b[1;33m\u001b[0m\u001b[0m\n\u001b[0;32m    668\u001b[0m                     \u001b[0m_put_buffers\u001b[0m\u001b[1;33m(\u001b[0m\u001b[0mstate\u001b[0m\u001b[1;33m,\u001b[0m \u001b[0mdata\u001b[0m\u001b[1;33m[\u001b[0m\u001b[1;34m'buffer_paths'\u001b[0m\u001b[1;33m]\u001b[0m\u001b[1;33m,\u001b[0m \u001b[0mmsg\u001b[0m\u001b[1;33m[\u001b[0m\u001b[1;34m'buffers'\u001b[0m\u001b[1;33m]\u001b[0m\u001b[1;33m)\u001b[0m\u001b[1;33m\u001b[0m\u001b[0m\n\u001b[1;32m--> 669\u001b[1;33m                 \u001b[0mself\u001b[0m\u001b[1;33m.\u001b[0m\u001b[0mset_state\u001b[0m\u001b[1;33m(\u001b[0m\u001b[0mstate\u001b[0m\u001b[1;33m)\u001b[0m\u001b[1;33m\u001b[0m\u001b[0m\n\u001b[0m\u001b[0;32m    670\u001b[0m \u001b[1;33m\u001b[0m\u001b[0m\n\u001b[0;32m    671\u001b[0m         \u001b[1;31m# Handle a state request.\u001b[0m\u001b[1;33m\u001b[0m\u001b[1;33m\u001b[0m\u001b[0m\n",
      "\u001b[1;32m~\\AppData\\Local\\Continuum\\anaconda3\\lib\\site-packages\\ipywidgets\\widgets\\widget.py\u001b[0m in \u001b[0;36mset_state\u001b[1;34m(self, sync_data)\u001b[0m\n\u001b[0;32m    537\u001b[0m                     from_json = self.trait_metadata(name, 'from_json',\n\u001b[0;32m    538\u001b[0m                                                     self._trait_from_json)\n\u001b[1;32m--> 539\u001b[1;33m                     \u001b[0mself\u001b[0m\u001b[1;33m.\u001b[0m\u001b[0mset_trait\u001b[0m\u001b[1;33m(\u001b[0m\u001b[0mname\u001b[0m\u001b[1;33m,\u001b[0m \u001b[0mfrom_json\u001b[0m\u001b[1;33m(\u001b[0m\u001b[0msync_data\u001b[0m\u001b[1;33m[\u001b[0m\u001b[0mname\u001b[0m\u001b[1;33m]\u001b[0m\u001b[1;33m,\u001b[0m \u001b[0mself\u001b[0m\u001b[1;33m)\u001b[0m\u001b[1;33m)\u001b[0m\u001b[1;33m\u001b[0m\u001b[0m\n\u001b[0m\u001b[0;32m    540\u001b[0m \u001b[1;33m\u001b[0m\u001b[0m\n\u001b[0;32m    541\u001b[0m     \u001b[1;32mdef\u001b[0m \u001b[0msend\u001b[0m\u001b[1;33m(\u001b[0m\u001b[0mself\u001b[0m\u001b[1;33m,\u001b[0m \u001b[0mcontent\u001b[0m\u001b[1;33m,\u001b[0m \u001b[0mbuffers\u001b[0m\u001b[1;33m=\u001b[0m\u001b[1;32mNone\u001b[0m\u001b[1;33m)\u001b[0m\u001b[1;33m:\u001b[0m\u001b[1;33m\u001b[0m\u001b[0m\n",
      "\u001b[1;32m~\\AppData\\Local\\Continuum\\anaconda3\\lib\\contextlib.py\u001b[0m in \u001b[0;36m__exit__\u001b[1;34m(self, type, value, traceback)\u001b[0m\n\u001b[0;32m     86\u001b[0m         \u001b[1;32mif\u001b[0m \u001b[0mtype\u001b[0m \u001b[1;32mis\u001b[0m \u001b[1;32mNone\u001b[0m\u001b[1;33m:\u001b[0m\u001b[1;33m\u001b[0m\u001b[0m\n\u001b[0;32m     87\u001b[0m             \u001b[1;32mtry\u001b[0m\u001b[1;33m:\u001b[0m\u001b[1;33m\u001b[0m\u001b[0m\n\u001b[1;32m---> 88\u001b[1;33m                 \u001b[0mnext\u001b[0m\u001b[1;33m(\u001b[0m\u001b[0mself\u001b[0m\u001b[1;33m.\u001b[0m\u001b[0mgen\u001b[0m\u001b[1;33m)\u001b[0m\u001b[1;33m\u001b[0m\u001b[0m\n\u001b[0m\u001b[0;32m     89\u001b[0m             \u001b[1;32mexcept\u001b[0m \u001b[0mStopIteration\u001b[0m\u001b[1;33m:\u001b[0m\u001b[1;33m\u001b[0m\u001b[0m\n\u001b[0;32m     90\u001b[0m                 \u001b[1;32mreturn\u001b[0m \u001b[1;32mFalse\u001b[0m\u001b[1;33m\u001b[0m\u001b[0m\n",
      "\u001b[1;32m~\\AppData\\Local\\Continuum\\anaconda3\\lib\\site-packages\\traitlets\\traitlets.py\u001b[0m in \u001b[0;36mhold_trait_notifications\u001b[1;34m(self)\u001b[0m\n\u001b[0;32m   1129\u001b[0m                 \u001b[1;32mfor\u001b[0m \u001b[0mchanges\u001b[0m \u001b[1;32min\u001b[0m \u001b[0mcache\u001b[0m\u001b[1;33m.\u001b[0m\u001b[0mvalues\u001b[0m\u001b[1;33m(\u001b[0m\u001b[1;33m)\u001b[0m\u001b[1;33m:\u001b[0m\u001b[1;33m\u001b[0m\u001b[0m\n\u001b[0;32m   1130\u001b[0m                     \u001b[1;32mfor\u001b[0m \u001b[0mchange\u001b[0m \u001b[1;32min\u001b[0m \u001b[0mchanges\u001b[0m\u001b[1;33m:\u001b[0m\u001b[1;33m\u001b[0m\u001b[0m\n\u001b[1;32m-> 1131\u001b[1;33m                         \u001b[0mself\u001b[0m\u001b[1;33m.\u001b[0m\u001b[0mnotify_change\u001b[0m\u001b[1;33m(\u001b[0m\u001b[0mchange\u001b[0m\u001b[1;33m)\u001b[0m\u001b[1;33m\u001b[0m\u001b[0m\n\u001b[0m\u001b[0;32m   1132\u001b[0m \u001b[1;33m\u001b[0m\u001b[0m\n\u001b[0;32m   1133\u001b[0m     \u001b[1;32mdef\u001b[0m \u001b[0m_notify_trait\u001b[0m\u001b[1;33m(\u001b[0m\u001b[0mself\u001b[0m\u001b[1;33m,\u001b[0m \u001b[0mname\u001b[0m\u001b[1;33m,\u001b[0m \u001b[0mold_value\u001b[0m\u001b[1;33m,\u001b[0m \u001b[0mnew_value\u001b[0m\u001b[1;33m)\u001b[0m\u001b[1;33m:\u001b[0m\u001b[1;33m\u001b[0m\u001b[0m\n",
      "\u001b[1;32m~\\AppData\\Local\\Continuum\\anaconda3\\lib\\site-packages\\ipywidgets\\widgets\\widget.py\u001b[0m in \u001b[0;36mnotify_change\u001b[1;34m(self, change)\u001b[0m\n\u001b[0;32m    598\u001b[0m                 \u001b[1;31m# Send new state to front-end\u001b[0m\u001b[1;33m\u001b[0m\u001b[1;33m\u001b[0m\u001b[0m\n\u001b[0;32m    599\u001b[0m                 \u001b[0mself\u001b[0m\u001b[1;33m.\u001b[0m\u001b[0msend_state\u001b[0m\u001b[1;33m(\u001b[0m\u001b[0mkey\u001b[0m\u001b[1;33m=\u001b[0m\u001b[0mname\u001b[0m\u001b[1;33m)\u001b[0m\u001b[1;33m\u001b[0m\u001b[0m\n\u001b[1;32m--> 600\u001b[1;33m         \u001b[0msuper\u001b[0m\u001b[1;33m(\u001b[0m\u001b[0mWidget\u001b[0m\u001b[1;33m,\u001b[0m \u001b[0mself\u001b[0m\u001b[1;33m)\u001b[0m\u001b[1;33m.\u001b[0m\u001b[0mnotify_change\u001b[0m\u001b[1;33m(\u001b[0m\u001b[0mchange\u001b[0m\u001b[1;33m)\u001b[0m\u001b[1;33m\u001b[0m\u001b[0m\n\u001b[0m\u001b[0;32m    601\u001b[0m \u001b[1;33m\u001b[0m\u001b[0m\n\u001b[0;32m    602\u001b[0m     \u001b[1;32mdef\u001b[0m \u001b[0m__repr__\u001b[0m\u001b[1;33m(\u001b[0m\u001b[0mself\u001b[0m\u001b[1;33m)\u001b[0m\u001b[1;33m:\u001b[0m\u001b[1;33m\u001b[0m\u001b[0m\n",
      "\u001b[1;32m~\\AppData\\Local\\Continuum\\anaconda3\\lib\\site-packages\\traitlets\\traitlets.py\u001b[0m in \u001b[0;36mnotify_change\u001b[1;34m(self, change)\u001b[0m\n\u001b[0;32m   1174\u001b[0m                 \u001b[0mc\u001b[0m \u001b[1;33m=\u001b[0m \u001b[0mgetattr\u001b[0m\u001b[1;33m(\u001b[0m\u001b[0mself\u001b[0m\u001b[1;33m,\u001b[0m \u001b[0mc\u001b[0m\u001b[1;33m.\u001b[0m\u001b[0mname\u001b[0m\u001b[1;33m)\u001b[0m\u001b[1;33m\u001b[0m\u001b[0m\n\u001b[0;32m   1175\u001b[0m \u001b[1;33m\u001b[0m\u001b[0m\n\u001b[1;32m-> 1176\u001b[1;33m             \u001b[0mc\u001b[0m\u001b[1;33m(\u001b[0m\u001b[0mchange\u001b[0m\u001b[1;33m)\u001b[0m\u001b[1;33m\u001b[0m\u001b[0m\n\u001b[0m\u001b[0;32m   1177\u001b[0m \u001b[1;33m\u001b[0m\u001b[0m\n\u001b[0;32m   1178\u001b[0m     \u001b[1;32mdef\u001b[0m \u001b[0m_add_notifiers\u001b[0m\u001b[1;33m(\u001b[0m\u001b[0mself\u001b[0m\u001b[1;33m,\u001b[0m \u001b[0mhandler\u001b[0m\u001b[1;33m,\u001b[0m \u001b[0mname\u001b[0m\u001b[1;33m,\u001b[0m \u001b[0mtype\u001b[0m\u001b[1;33m)\u001b[0m\u001b[1;33m:\u001b[0m\u001b[1;33m\u001b[0m\u001b[0m\n",
      "\u001b[1;32m<ipython-input-15-a59f48b75ecc>\u001b[0m in \u001b[0;36mbrush_callback_scat\u001b[1;34m(change)\u001b[0m\n\u001b[0;32m     17\u001b[0m         \u001b[0msub_scat_Var\u001b[0m \u001b[1;33m=\u001b[0m \u001b[0mscat_Var\u001b[0m\u001b[1;33m.\u001b[0m\u001b[0mloc\u001b[0m\u001b[1;33m[\u001b[0m\u001b[0mconditions\u001b[0m\u001b[1;33m]\u001b[0m\u001b[1;33m\u001b[0m\u001b[0m\n\u001b[0;32m     18\u001b[0m         \u001b[0msub_scat_VarLag\u001b[0m \u001b[1;33m=\u001b[0m \u001b[0mpd\u001b[0m\u001b[1;33m.\u001b[0m\u001b[0mSeries\u001b[0m\u001b[1;33m(\u001b[0m\u001b[0mscat_VarLag\u001b[0m\u001b[1;33m)\u001b[0m\u001b[1;33m.\u001b[0m\u001b[0mloc\u001b[0m\u001b[1;33m[\u001b[0m\u001b[0mconditions\u001b[0m\u001b[1;33m]\u001b[0m\u001b[1;33m\u001b[0m\u001b[0m\n\u001b[1;32m---> 19\u001b[1;33m         \u001b[0msub_b\u001b[0m\u001b[1;33m,\u001b[0m\u001b[0msub_a\u001b[0m \u001b[1;33m=\u001b[0m \u001b[0mnp\u001b[0m\u001b[1;33m.\u001b[0m\u001b[0mpolyfit\u001b[0m\u001b[1;33m(\u001b[0m\u001b[0msub_scat_Var\u001b[0m\u001b[1;33m,\u001b[0m \u001b[0msub_scat_VarLag\u001b[0m\u001b[1;33m,\u001b[0m \u001b[1;36m1\u001b[0m\u001b[1;33m)\u001b[0m\u001b[1;33m\u001b[0m\u001b[0m\n\u001b[0m\u001b[0;32m     20\u001b[0m         \u001b[0msub_x_reg\u001b[0m \u001b[1;33m=\u001b[0m \u001b[1;33m[\u001b[0m\u001b[0mmin\u001b[0m\u001b[1;33m(\u001b[0m\u001b[0mscat_Var\u001b[0m\u001b[1;33m)\u001b[0m\u001b[1;33m,\u001b[0m \u001b[0mmax\u001b[0m\u001b[1;33m(\u001b[0m\u001b[0mscat_Var\u001b[0m\u001b[1;33m)\u001b[0m\u001b[1;33m]\u001b[0m\u001b[1;33m\u001b[0m\u001b[0m\n\u001b[0;32m     21\u001b[0m         \u001b[0msub_y_reg\u001b[0m \u001b[1;33m=\u001b[0m \u001b[1;33m[\u001b[0m\u001b[0msub_a\u001b[0m \u001b[1;33m+\u001b[0m \u001b[0mi\u001b[0m \u001b[1;33m*\u001b[0m \u001b[0msub_b\u001b[0m \u001b[1;32mfor\u001b[0m \u001b[0mi\u001b[0m \u001b[1;32min\u001b[0m \u001b[0mx_reg\u001b[0m\u001b[1;33m]\u001b[0m\u001b[1;33m\u001b[0m\u001b[0m\n",
      "\u001b[1;32m~\\AppData\\Local\\Continuum\\anaconda3\\lib\\site-packages\\numpy\\lib\\polynomial.py\u001b[0m in \u001b[0;36mpolyfit\u001b[1;34m(x, y, deg, rcond, full, w, cov)\u001b[0m\n\u001b[0;32m    553\u001b[0m         \u001b[1;32mraise\u001b[0m \u001b[0mTypeError\u001b[0m\u001b[1;33m(\u001b[0m\u001b[1;34m\"expected 1D vector for x\"\u001b[0m\u001b[1;33m)\u001b[0m\u001b[1;33m\u001b[0m\u001b[0m\n\u001b[0;32m    554\u001b[0m     \u001b[1;32mif\u001b[0m \u001b[0mx\u001b[0m\u001b[1;33m.\u001b[0m\u001b[0msize\u001b[0m \u001b[1;33m==\u001b[0m \u001b[1;36m0\u001b[0m\u001b[1;33m:\u001b[0m\u001b[1;33m\u001b[0m\u001b[0m\n\u001b[1;32m--> 555\u001b[1;33m         \u001b[1;32mraise\u001b[0m \u001b[0mTypeError\u001b[0m\u001b[1;33m(\u001b[0m\u001b[1;34m\"expected non-empty vector for x\"\u001b[0m\u001b[1;33m)\u001b[0m\u001b[1;33m\u001b[0m\u001b[0m\n\u001b[0m\u001b[0;32m    556\u001b[0m     \u001b[1;32mif\u001b[0m \u001b[0my\u001b[0m\u001b[1;33m.\u001b[0m\u001b[0mndim\u001b[0m \u001b[1;33m<\u001b[0m \u001b[1;36m1\u001b[0m \u001b[1;32mor\u001b[0m \u001b[0my\u001b[0m\u001b[1;33m.\u001b[0m\u001b[0mndim\u001b[0m \u001b[1;33m>\u001b[0m \u001b[1;36m2\u001b[0m\u001b[1;33m:\u001b[0m\u001b[1;33m\u001b[0m\u001b[0m\n\u001b[0;32m    557\u001b[0m         \u001b[1;32mraise\u001b[0m \u001b[0mTypeError\u001b[0m\u001b[1;33m(\u001b[0m\u001b[1;34m\"expected 1D or 2D array for y\"\u001b[0m\u001b[1;33m)\u001b[0m\u001b[1;33m\u001b[0m\u001b[0m\n",
      "\u001b[1;31mTypeError\u001b[0m: expected non-empty vector for x"
     ]
    }
   ],
   "source": [
    "default_marks = [scatt_plot, reg_line]\n",
    "br_sel_scat = BrushSelector(x_scale=bs_sc_x, y_scale=bs_sc_y, marks=default_marks, color='red')\n",
    "db_scat_brush = HTML(value = '[]')\n",
    "\n",
    "## call back for the selector\n",
    "def brush_callback_scat(change):\n",
    "    if (len(br_sel_scat.selected) == 0):\n",
    "        dynamic_scatter.marks = [scatt_plot, reg_line]\n",
    "    else:\n",
    "        db_scat_brush.value = str(br_sel_scat.selected)\n",
    "        brush_box_coordinates = re.sub('[\\[\\]]', '', db_scat_brush.value).split(', ')\n",
    "        x_bottom_left = float(brush_box_coordinates[0])\n",
    "        y_bottom_left = float(brush_box_coordinates[1])\n",
    "        x_upper_right = float(brush_box_coordinates[2])\n",
    "        y_upper_right = float(brush_box_coordinates[3])\n",
    "        conditions = (scat_Var > x_bottom_left) & (scat_Var < x_upper_right) & (pd.Series(scat_VarLag) < y_upper_right) & (pd.Series(scat_VarLag) > y_bottom_left)\n",
    "        sub_scat_Var = scat_Var.loc[conditions]\n",
    "        sub_scat_VarLag = pd.Series(scat_VarLag).loc[conditions]\n",
    "        sub_b,sub_a = np.polyfit(sub_scat_Var, sub_scat_VarLag, 1)\n",
    "        sub_x_reg = [min(scat_Var), max(scat_Var)]\n",
    "        sub_y_reg = [sub_a + i * sub_b for i in x_reg]\n",
    "        sub_reg_line = Lines(x = sub_x_reg, y = sub_y_reg, scales={'x': bs_sc_x, 'y': bs_sc_y}, colors = ['red'])\n",
    "        sub_reg_line = sub_reg_line\n",
    "        dynamic_scatter.marks = [scatt_plot, reg_line, sub_reg_line]\n",
    "    \n",
    "br_sel_scat.observe(brush_callback_scat, names=['brushing'])\n",
    "\n",
    "dynamic_scatter = bq.Figure(axes=[bs_ax_x, bs_ax_y], \n",
    "                            marks = default_marks, \n",
    "                            title = 'Scatterplot for '+ str(year), \n",
    "                            interaction = br_sel_scat)\n",
    "dynamic_scatter"
   ]
  },
  {
   "cell_type": "markdown",
   "metadata": {},
   "source": [
    "## Time Path plot"
   ]
  },
  {
   "cell_type": "markdown",
   "metadata": {},
   "source": [
    "In this plot, we have to select a specific state."
   ]
  },
  {
   "cell_type": "code",
   "execution_count": 16,
   "metadata": {},
   "outputs": [],
   "source": [
    "state_selected = 'California'\n",
    "us_tidy_aux = us_tidy[us_tidy.Name == state_selected]\n",
    "\n",
    "Var = us_tidy_aux.PCR\n",
    "VarLag = us_tidy_aux.PCR_Lagged"
   ]
  },
  {
   "cell_type": "code",
   "execution_count": 17,
   "metadata": {},
   "outputs": [
    {
     "data": {
      "application/vnd.jupyter.widget-view+json": {
       "model_id": "056db233a25849079173ba9efc022d4b",
       "version_major": 2,
       "version_minor": 0
      },
      "text/plain": [
       "Figure(axes=[Axis(label='Original Variable', scale=LinearScale(), tick_style={'font-size': '7px'}), Axis(label…"
      ]
     },
     "metadata": {},
     "output_type": "display_data"
    }
   ],
   "source": [
    "tp_sc_x = LinearScale()\n",
    "tp_sc_y = LinearScale()\n",
    "\n",
    "tp_line = Lines(x = Var, y = VarLag, scales={'x': tp_sc_x, 'y': tp_sc_y})\n",
    "tp_ax_x = Axis(scale = tp_sc_x, label = 'Original Variable', tick_style= {'font-size': '7px'})\n",
    "tp_ax_y = Axis(scale = tp_sc_y, orientation = 'vertical', label = 'Lagged Variable')\n",
    "\n",
    "sc_size = LinearScale()\n",
    "test = [0] * len(Var)\n",
    "test[0] = 1\n",
    "\n",
    "tp_scatt = Scatter(x = Var, \n",
    "                   y = VarLag, \n",
    "                   size = test,\n",
    "                   scales = {'x': tp_sc_x, \n",
    "                             'y': tp_sc_y,\n",
    "                             'size': sc_size}, \n",
    "                   colors = ['black'])\n",
    "\n",
    "tp_figure = Figure(marks = [tp_line, tp_scatt], axes = [tp_ax_x, tp_ax_y], title = 'Time Path for ' + state_selected)\n",
    "tp_figure"
   ]
  },
  {
   "cell_type": "markdown",
   "metadata": {},
   "source": [
    "## Time Series of Global Moran's I"
   ]
  },
  {
   "cell_type": "markdown",
   "metadata": {},
   "source": [
    "First, we need to calculate the Moran's I value for all years."
   ]
  },
  {
   "cell_type": "code",
   "execution_count": 18,
   "metadata": {},
   "outputs": [],
   "source": [
    "# Calculating Moran'I for every column\n",
    "morans = []\n",
    "for i in cols_to_calculate:\n",
    "    aux = ps.Moran(df_map[i], W).I\n",
    "    morans.append(aux)"
   ]
  },
  {
   "cell_type": "code",
   "execution_count": 19,
   "metadata": {},
   "outputs": [
    {
     "data": {
      "application/vnd.jupyter.widget-view+json": {
       "model_id": "db6feee3ee7147d6ba64e06d180909ad",
       "version_major": 2,
       "version_minor": 0
      },
      "text/plain": [
       "Figure(axes=[Axis(label='Years', scale=LinearScale(), tick_style={'font-size': '7px'}), Axis(label=\"Moran's I\"…"
      ]
     },
     "metadata": {},
     "output_type": "display_data"
    }
   ],
   "source": [
    "ts_sc_x = LinearScale()\n",
    "ts_sc_y = LinearScale()\n",
    "\n",
    "moran_line = Lines(x = years, y = morans, scales={'x': ts_sc_x, 'y': ts_sc_y})\n",
    "\n",
    "moran_tt = Tooltip(fields=['x', 'y'], labels = ['Year: ', 'Moran Value: '], formats = ['f', '0.3f'])\n",
    "\n",
    "moran_scatt = Scatter(x = years, \n",
    "                      y = morans, \n",
    "                      scales = {'x': ts_sc_x, 'y': ts_sc_y}, \n",
    "                      colors = ['black'],\n",
    "                      tooltip = moran_tt,\n",
    "                      unhovered_style={'opacity': 0.25})\n",
    "moran_scatt.default_size = 10\n",
    "\n",
    "ts_ax_x = Axis(scale = ts_sc_x, label='Years', tick_style= {'font-size': '7px'})\n",
    "ts_ax_y = Axis(scale = ts_sc_y, orientation='vertical', label='Moran\\'s I')\n",
    "\n",
    "ts_plot = Figure(marks=[moran_line, moran_scatt], axes=[ts_ax_x, ts_ax_y], title='Moran\\'s I Time Series plot')\n",
    "ts_plot"
   ]
  },
  {
   "cell_type": "markdown",
   "metadata": {},
   "source": [
    "## Density Plot"
   ]
  },
  {
   "cell_type": "markdown",
   "metadata": {},
   "source": [
    "First, let's estimate the density curve for a grid."
   ]
  },
  {
   "cell_type": "code",
   "execution_count": 20,
   "metadata": {},
   "outputs": [],
   "source": [
    "year_base = '1929'\n",
    "us_aux_dens = us_tidy[us_tidy.Year == str(year_base)]\n",
    "value_vetor = us_aux_dens.PCR.values\n",
    "kde1 = stats.gaussian_kde(value_vetor, bw_method = 'silverman')\n",
    "\n",
    "\n",
    "year2 = max(us_tidy.Year)\n",
    "value_vetor2 = us_tidy[us_tidy.Year == str(year2)].PCR.values\n",
    "\n",
    "kde2 = stats.gaussian_kde(value_vetor2, bw_method = 'silverman')\n",
    "\n",
    "grid = np.linspace(start = min(min(value_vetor), min(value_vetor2)), \n",
    "                   stop  = max(max(value_vetor), max(value_vetor2)), \n",
    "                   num   = 10000)\n",
    "dens1 = kde1.evaluate(grid)\n",
    "dens2 = kde2.evaluate(grid)"
   ]
  },
  {
   "cell_type": "code",
   "execution_count": 21,
   "metadata": {},
   "outputs": [
    {
     "data": {
      "application/vnd.jupyter.widget-view+json": {
       "model_id": "47f8f17dabdd493681402960998aa923",
       "version_major": 2,
       "version_minor": 0
      },
      "text/plain": [
       "Figure(axes=[Axis(label='Values', scale=LinearScale()), Axis(label='Density', orientation='vertical', scale=Li…"
      ]
     },
     "metadata": {},
     "output_type": "display_data"
    }
   ],
   "source": [
    "dp_sc_x = LinearScale()\n",
    "dp_sc_y = LinearScale()\n",
    "\n",
    "density_line1 = Lines(x = grid, y = dens1, scales={'x': dp_sc_x, 'y': dp_sc_y}, fill = 'bottom', fill_opacities = [0.3])\n",
    "density_line2 = Lines(x = grid, y = dens2, scales={'x': dp_sc_x, 'y': dp_sc_y}, fill = 'bottom', fill_opacities = [0.3], fill_colors = ['red'], colors = ['red'])\n",
    "dp_ax_x = Axis(scale = dp_sc_x, label = 'Values')\n",
    "dp_ax_y = Axis(scale = dp_sc_y, orientation = 'vertical', label = 'Density')\n",
    "\n",
    "density_plot = Figure(marks = [density_line1, density_line2], axes = [dp_ax_x, dp_ax_y], title = 'Density plot for ' + str(year_base) + ' and ' + str(year2))\n",
    "density_plot.interpolation = 'basis' # In order to make to curve smoother\n",
    "density_plot"
   ]
  },
  {
   "cell_type": "markdown",
   "metadata": {},
   "source": [
    "## Boxplot (with scatter markers)"
   ]
  },
  {
   "cell_type": "code",
   "execution_count": 22,
   "metadata": {},
   "outputs": [],
   "source": [
    "bp_sc_x = LinearScale(min = year - 1, max = year + 1)\n",
    "bp_sc_y = LinearScale(min = min(us_aux.PCR.values).astype(float), max = max(us_aux.PCR.values).astype(float))\n",
    "bp_ax_x = Axis(label='Year of ' + str(year), scale = bp_sc_x, tick_style= {'font-size': '5px'})\n",
    "bp_ax_y = Axis(label='Variable Label', scale = bp_sc_y, orientation='vertical')\n",
    "\n",
    "x_box = [year]\n",
    "boxes = Boxplot(x = x_box, y = [us_aux.PCR.values], scales = {'x': bp_sc_x, 'y': bp_sc_y},\n",
    "                box_fill_color = 'gray', outlier_fill_color = 'black')"
   ]
  },
  {
   "cell_type": "code",
   "execution_count": 23,
   "metadata": {},
   "outputs": [
    {
     "data": {
      "application/vnd.jupyter.widget-view+json": {
       "model_id": "4a84fd8ab6e740eebf89610efeacbfa9",
       "version_major": 2,
       "version_minor": 0
      },
      "text/plain": [
       "Figure(axes=[Axis(label='Year of 2009', scale=LinearScale(max=2010.0, min=2008.0), tick_style={'font-size': '5…"
      ]
     },
     "metadata": {},
     "output_type": "display_data"
    }
   ],
   "source": [
    "# Boxplot with markers\n",
    "x_scat_box = [year] * len(us_aux.PCR.values)\n",
    "y_scat_box = us_aux.PCR.values.tolist()\n",
    "scatt_box = Scatter(x = x_scat_box, y = y_scat_box, scales={'x': bp_sc_x, 'y': bp_sc_y}, colors=['black'])\n",
    "scatt_box.default_size = 12\n",
    "boxplot_marks = bq.Figure(axes=[bp_ax_x, bp_ax_y], marks=[boxes, scatt_box], title = 'Boxplot of PCR in '+ str(year))\n",
    "boxplot_marks"
   ]
  },
  {
   "cell_type": "markdown",
   "metadata": {},
   "source": [
    "# Some interactions"
   ]
  },
  {
   "cell_type": "markdown",
   "metadata": {},
   "source": [
    "## Choropleth with Time Path"
   ]
  },
  {
   "cell_type": "markdown",
   "metadata": {},
   "source": [
    "# Choropleth event"
   ]
  },
  {
   "cell_type": "code",
   "execution_count": 24,
   "metadata": {},
   "outputs": [
    {
     "data": {
      "text/plain": [
       "21"
      ]
     },
     "execution_count": 24,
     "metadata": {},
     "output_type": "execute_result"
    }
   ],
   "source": [
    "us_tidy_aux2 = us_tidy[us_tidy.Year == '1960']\n",
    "dot_index = us_tidy_aux2.Name.tolist().index('Nevada')\n",
    "dot_index"
   ]
  },
  {
   "cell_type": "code",
   "execution_count": 25,
   "metadata": {},
   "outputs": [],
   "source": [
    "def hover_callback(name, value):\n",
    "    state_hovered = value['data']['name']\n",
    "    us_tidy_aux = us_tidy[us_tidy.Name == state_hovered]\n",
    "    Var = us_tidy_aux.PCR\n",
    "    VarLag = us_tidy_aux.PCR_Lagged\n",
    "    tp_line.x = Var\n",
    "    tp_line.y = VarLag\n",
    "    tp_scatt.x = Var\n",
    "    tp_scatt.y = VarLag\n",
    "    tp_figure.title = 'Time Path for ' + state_hovered\n",
    "    \n",
    "    year_active = basic_scatter.title[-4:]\n",
    "    us_tidy_aux2 = us_tidy[us_tidy.Year == year_active]\n",
    "    \n",
    "    Var2 = us_tidy_aux2.PCR\n",
    "    \n",
    "    dot_index = us_tidy_aux2.Name.tolist().index(state_hovered)\n",
    "    \n",
    "    test = ['blue'] * len(Var)\n",
    "    test[dot_index] = 'red'\n",
    "    scatt_plot.colors = test\n",
    "\n",
    "    test2 = [0] * len(Var)\n",
    "    test2[dot_index] = 5\n",
    "    scatt_plot.size = test2\n",
    "\n",
    "    return state_hovered\n",
    "    \n",
    "choro_map_tp = Map(map_data = base_json, **map_styles, tooltip=tp_figure)\n",
    "choro_map_tp.on_hover(hover_callback)"
   ]
  },
  {
   "cell_type": "code",
   "execution_count": 26,
   "metadata": {},
   "outputs": [
    {
     "data": {
      "application/vnd.jupyter.widget-view+json": {
       "model_id": "0fb0b635f0dd42f1bda09f67b674cc32",
       "version_major": 2,
       "version_minor": 0
      },
      "text/plain": [
       "Figure(axes=[ColorAxis(scale=ColorScale(scheme='YlOrRd'))], fig_margin={'top': 0, 'bottom': 0, 'left': 0, 'rig…"
      ]
     },
     "metadata": {},
     "output_type": "display_data"
    }
   ],
   "source": [
    "choro_tp = Figure(marks=[choro_map_tp], \n",
    "                  axes=[axis], \n",
    "                  title='Choropleth with TimePath', \n",
    "                  fig_margin={'top': 0, 'bottom': 0, 'left': 0, 'right': 0})\n",
    "choro_tp"
   ]
  },
  {
   "cell_type": "markdown",
   "metadata": {},
   "source": [
    "## Auxiliar Map function"
   ]
  },
  {
   "cell_type": "code",
   "execution_count": 27,
   "metadata": {},
   "outputs": [],
   "source": [
    "def create_map_data_from_year(year):\n",
    "    us_aux = us_tidy[us_tidy.Year == str(year)]\n",
    "    base_json = topo_load('map_data/USStatesMap.json')\n",
    "    x = []\n",
    "    for i in range(len(base_json['objects']['subunits']['geometries'])):\n",
    "        aux = base_json['objects']['subunits']['geometries'][i]['id']\n",
    "        x.append(aux)\n",
    "\n",
    "    v = []\n",
    "    for i in x:\n",
    "        if (len(us_aux[us_aux.STATE_FIPS == i].PCR.values.astype(float)) == 1):\n",
    "            aux = us_aux[us_aux.STATE_FIPS == i].PCR.values.astype(float).item()\n",
    "        else:\n",
    "            aux = 0\n",
    "        v.append(aux)\n",
    "\n",
    "    for i in range(len(x)):\n",
    "        if (pd.Series(base_json['objects']['subunits']['geometries'][i]['id']).isin(us_aux.STATE_FIPS).values[0]):\n",
    "            base_json['objects']['subunits']['geometries'][i]['properties']['PCR_Value'] = v[i]\n",
    "\n",
    "    final_json = base_json\n",
    "    \n",
    "    return final_json"
   ]
  },
  {
   "cell_type": "markdown",
   "metadata": {},
   "source": [
    "### Building a dictionary that contains all the json for all years to optimize the choropleth update"
   ]
  },
  {
   "cell_type": "code",
   "execution_count": 28,
   "metadata": {},
   "outputs": [],
   "source": [
    "all_json = dict()\n",
    "for i in range(int(min(us_tidy.Year)), int(max(us_tidy.Year)) + 1):\n",
    "    all_json[i] = create_map_data_from_year(i)"
   ]
  },
  {
   "cell_type": "markdown",
   "metadata": {},
   "source": [
    "## Time Series Event"
   ]
  },
  {
   "cell_type": "code",
   "execution_count": 29,
   "metadata": {},
   "outputs": [],
   "source": [
    "def hover_ts(x, value):\n",
    "    year_hovered = value['data']['x']\n",
    "    us_aux = us_tidy[us_tidy.Year == str(year_hovered)]\n",
    "    scat_Var = us_aux.PCR\n",
    "    scat_VarLag = us_aux.PCR_Lagged   \n",
    "    b,a = np.polyfit(scat_Var, scat_VarLag, 1)\n",
    "    y_reg = [a + i * b for i in x_reg]\n",
    "    scatt_plot.x = scat_Var\n",
    "    scatt_plot.y = scat_VarLag \n",
    "    reg_line.y = y_reg\n",
    "    basic_scatter.title = 'Scatterplot for ' + str(year_hovered)\n",
    "    \n",
    "    scatt_box.x = [year_hovered] * len(scat_Var)\n",
    "    scatt_box.y = scat_Var\n",
    "    boxes.x = [year_hovered]\n",
    "    boxes.y = [scat_Var]\n",
    "    #boxes.scales['y'] = LinearScale(min = min(scat_Var), max = max(scat_Var))\n",
    "    #scatt_box.scales['x'] = LinearScale(max=year_hovered + 1, min=year_hovered - 1)\n",
    "    #scatt_box.scales['y'] = LinearScale(min = min(scat_Var), max = max(scat_Var))\n",
    "    #boxplot_marks.axes[0] = Axis(label='Year of ' + str(year_hovered), scale = LinearScale(min = year_hovered - 1, max = year_hovered + 1))\n",
    "    #boxplot_marks.axes[1] = Axis(label='PCR', scale = LinearScale(min = min(scat_Var), max = max(scat_Var)), orientation='vertical')\n",
    "    boxplot_marks.title = 'Boxplot of PCR in ' + str(year_hovered)\n",
    "    \n",
    "    value_vetor2 = us_aux.PCR.values\n",
    "    kde2 = stats.gaussian_kde(value_vetor2, bw_method = 'silverman')\n",
    "    grid = np.linspace(start = min(min(value_vetor), min(value_vetor2)), \n",
    "                       stop  = max(max(value_vetor), max(value_vetor2)), \n",
    "                       num   = 10000)\n",
    "    dens1 = kde1.evaluate(grid)\n",
    "    dens2 = kde2.evaluate(grid)\n",
    "    \n",
    "    density_line1.x = grid\n",
    "    density_line1.y = dens1\n",
    "    density_line2.x = grid\n",
    "    density_line2.y = dens2\n",
    "    density_plot.title = 'Density plot for ' + str(year_hovered) + ' and ' + str(year_base)\n",
    "    \n",
    "    aux = [0] * len(us_tidy.Year.unique())\n",
    "    aux[year_hovered - int(min(us_tidy.Year))] = 1\n",
    "    tp_scatt.size = aux\n",
    "    \n",
    "    #choro_map_layout.map_data = create_map_data_from_year(year_hovered)\n",
    "    choro_map_layout.map_data = all_json[year_hovered]\n",
    "    choro_map_layout.color = dict(zip(us_aux.STATE_FIPS, us_aux.PCR))\n",
    "    choro_tp.title = 'Choropleth for ' + str(year_hovered)\n",
    "\n",
    "moran_scatt.default_size = 30\n",
    "moran_scatt.on_element_click(hover_ts)"
   ]
  },
  {
   "cell_type": "markdown",
   "metadata": {},
   "source": [
    "# Building layout"
   ]
  },
  {
   "cell_type": "code",
   "execution_count": 30,
   "metadata": {},
   "outputs": [],
   "source": [
    "choro_map_layout = Map(map_data = base_json, **map_styles, tooltip=def_tt) # Changed tooltip=tp_figure\n",
    "choro_map_layout.on_element_click(hover_callback)\n",
    "choro_tp = Figure(marks=[choro_map_layout], \n",
    "                  axes=[axis], \n",
    "                  title='Choropleth for ' + str(year), \n",
    "                  fig_margin={'top': 0, 'bottom': 0, 'left': 0, 'right': 0})\n",
    "\n",
    "figures = [choro_tp, basic_scatter, tp_figure, ts_plot, density_plot, boxplot_marks]\n",
    "choro_tp.layout.height = '300px'\n",
    "for i in figures:\n",
    "    i.layout.height = '300px'"
   ]
  },
  {
   "cell_type": "code",
   "execution_count": 31,
   "metadata": {},
   "outputs": [
    {
     "data": {
      "application/vnd.jupyter.widget-view+json": {
       "model_id": "5eac84defa7a4b43a9b9b45cec86c8f7",
       "version_major": 2,
       "version_minor": 0
      },
      "text/plain": [
       "VBox(children=(HBox(children=(Figure(axes=[ColorAxis(scale=ColorScale(scheme='YlOrRd'))], fig_margin={'top': 0…"
      ]
     },
     "metadata": {},
     "output_type": "display_data"
    }
   ],
   "source": [
    "import numpy as np\n",
    "from bqplot import *\n",
    "from IPython.display import Javascript, display, clear_output\n",
    "import ipywidgets as widgets\n",
    "display(widgets.VBox([widgets.HBox(figures[0:3]), widgets.HBox(figures[3:6])], align_content = 'stretch'))"
   ]
  },
  {
   "cell_type": "code",
   "execution_count": 32,
   "metadata": {},
   "outputs": [],
   "source": [
    "scatt_plot.display_names = False"
   ]
  },
  {
   "cell_type": "code",
   "execution_count": null,
   "metadata": {},
   "outputs": [],
   "source": []
  }
 ],
 "metadata": {
  "kernelspec": {
   "display_name": "Python 3",
   "language": "python",
   "name": "python3"
  },
  "language_info": {
   "codemirror_mode": {
    "name": "ipython",
    "version": 3
   },
   "file_extension": ".py",
   "mimetype": "text/x-python",
   "name": "python",
   "nbconvert_exporter": "python",
   "pygments_lexer": "ipython3",
   "version": "3.6.5"
  }
 },
 "nbformat": 4,
 "nbformat_minor": 2
}
