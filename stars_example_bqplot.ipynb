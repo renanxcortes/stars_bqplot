{
 "cells": [
  {
   "cell_type": "markdown",
   "metadata": {},
   "source": [
    "# STARS base plots in bqplot"
   ]
  },
  {
   "cell_type": "markdown",
   "metadata": {},
   "source": [
    "## Loading Data and initial wrangling"
   ]
  },
  {
   "cell_type": "code",
   "execution_count": 112,
   "metadata": {},
   "outputs": [],
   "source": [
    "# I had to update some jupyter components before installing bqplot\n",
    "# conda update jupyter_core jupyter_client\n",
    "# conda install -c conda-forge bqplot\n",
    "import bqplot as bq\n",
    "import pandas as pd\n",
    "import pysal as ps\n",
    "import bqplot.pyplot as plt\n",
    "import geopandas as gpd\n",
    "import numpy as np\n",
    "from bqplot.interacts import (\n",
    "    FastIntervalSelector, IndexSelector, BrushIntervalSelector,\n",
    "    BrushSelector, MultiSelector, LassoSelector, PanZoom, HandDraw\n",
    ")\n",
    "from ipywidgets import ToggleButtons, VBox, HTML\n",
    "import re\n",
    "from scipy import stats\n",
    "from bqplot import * # Imports Figure, Map, Mercator, Orthographic, ColorScale, ColorAxis, AlbersUSA, topo_load, Tooltip, Scatter, Lines, etc."
   ]
  },
  {
   "cell_type": "code",
   "execution_count": 113,
   "metadata": {},
   "outputs": [],
   "source": [
    "csv_path = ps.examples.get_path('usjoin.csv')\n",
    "usjoin = pd.read_csv(csv_path)"
   ]
  },
  {
   "cell_type": "code",
   "execution_count": 114,
   "metadata": {},
   "outputs": [],
   "source": [
    "years = list(range(1929, 2010))                  \n",
    "cols_to_calculate = list(map(str, years))"
   ]
  },
  {
   "cell_type": "code",
   "execution_count": 115,
   "metadata": {},
   "outputs": [],
   "source": [
    "# Making the dataset tidy\n",
    "us_tidy = pd.melt(usjoin, \n",
    "                  id_vars=['Name', 'STATE_FIPS'],\n",
    "                  value_vars=cols_to_calculate, \n",
    "                  var_name='Year', \n",
    "                  value_name='Income')\n",
    "\n",
    "# Function that calculates Per Capita Ratio\n",
    "def calculate_pcr(x):\n",
    "    return x / np.mean(x)\n",
    "\n",
    "us_tidy['pcr'] = us_tidy.groupby('Year').Income.apply(lambda x: calculate_pcr(x))"
   ]
  },
  {
   "cell_type": "code",
   "execution_count": 111,
   "metadata": {},
   "outputs": [
    {
     "data": {
      "text/html": [
       "<div>\n",
       "<style scoped>\n",
       "    .dataframe tbody tr th:only-of-type {\n",
       "        vertical-align: middle;\n",
       "    }\n",
       "\n",
       "    .dataframe tbody tr th {\n",
       "        vertical-align: top;\n",
       "    }\n",
       "\n",
       "    .dataframe thead th {\n",
       "        text-align: right;\n",
       "    }\n",
       "</style>\n",
       "<table border=\"1\" class=\"dataframe\">\n",
       "  <thead>\n",
       "    <tr style=\"text-align: right;\">\n",
       "      <th></th>\n",
       "      <th>Name</th>\n",
       "      <th>STATE_FIPS</th>\n",
       "      <th>Year</th>\n",
       "      <th>Income</th>\n",
       "      <th>pcr</th>\n",
       "    </tr>\n",
       "  </thead>\n",
       "  <tbody>\n",
       "    <tr>\n",
       "      <th>0</th>\n",
       "      <td>Alabama</td>\n",
       "      <td>1</td>\n",
       "      <td>1929</td>\n",
       "      <td>323</td>\n",
       "      <td>0.525025</td>\n",
       "    </tr>\n",
       "    <tr>\n",
       "      <th>1</th>\n",
       "      <td>Arizona</td>\n",
       "      <td>4</td>\n",
       "      <td>1929</td>\n",
       "      <td>600</td>\n",
       "      <td>0.975279</td>\n",
       "    </tr>\n",
       "    <tr>\n",
       "      <th>2</th>\n",
       "      <td>Arkansas</td>\n",
       "      <td>5</td>\n",
       "      <td>1929</td>\n",
       "      <td>310</td>\n",
       "      <td>0.503894</td>\n",
       "    </tr>\n",
       "    <tr>\n",
       "      <th>3</th>\n",
       "      <td>California</td>\n",
       "      <td>6</td>\n",
       "      <td>1929</td>\n",
       "      <td>991</td>\n",
       "      <td>1.610836</td>\n",
       "    </tr>\n",
       "    <tr>\n",
       "      <th>4</th>\n",
       "      <td>Colorado</td>\n",
       "      <td>8</td>\n",
       "      <td>1929</td>\n",
       "      <td>634</td>\n",
       "      <td>1.030545</td>\n",
       "    </tr>\n",
       "  </tbody>\n",
       "</table>\n",
       "</div>"
      ],
      "text/plain": [
       "         Name  STATE_FIPS  Year  Income       pcr\n",
       "0     Alabama           1  1929     323  0.525025\n",
       "1     Arizona           4  1929     600  0.975279\n",
       "2    Arkansas           5  1929     310  0.503894\n",
       "3  California           6  1929     991  1.610836\n",
       "4    Colorado           8  1929     634  1.030545"
      ]
     },
     "execution_count": 111,
     "metadata": {},
     "output_type": "execute_result"
    }
   ],
   "source": [
    "us_tidy.head()"
   ]
  },
  {
   "cell_type": "code",
   "execution_count": 6,
   "metadata": {},
   "outputs": [],
   "source": [
    "shp_path = ps.examples.get_path('us48.shp')\n",
    "W = ps.queen_from_shapefile(shp_path)\n",
    "W.transform = 'r'\n",
    "\n",
    "def calculate_lag_value(x):\n",
    "    return ps.lag_spatial(W, x)\n",
    "\n",
    "us48_map = gpd.read_file(shp_path)\n",
    "us48_map.STATE_FIPS = us48_map.STATE_FIPS.astype(int)\n",
    "df_map = us48_map.merge(usjoin, on='STATE_FIPS')\n",
    "\n",
    "all_lagged = df_map[cols_to_calculate].apply(calculate_lag_value)"
   ]
  },
  {
   "cell_type": "markdown",
   "metadata": {},
   "source": [
    "## Choropleth Map"
   ]
  },
  {
   "cell_type": "code",
   "execution_count": 7,
   "metadata": {},
   "outputs": [],
   "source": [
    "year = 2000\n",
    "us_aux = us_tidy[us_tidy.Year == str(year)]"
   ]
  },
  {
   "cell_type": "code",
   "execution_count": 8,
   "metadata": {},
   "outputs": [],
   "source": [
    "base_json = topo_load('map_data/USStatesMap.json')"
   ]
  },
  {
   "cell_type": "code",
   "execution_count": 9,
   "metadata": {},
   "outputs": [],
   "source": [
    "# List of indexes (ids) of the json file\n",
    "x = []\n",
    "for i in range(len(base_json['objects']['subunits']['geometries'])):\n",
    "    aux = base_json['objects']['subunits']['geometries'][i]['id']\n",
    "    x.append(aux)"
   ]
  },
  {
   "cell_type": "code",
   "execution_count": 10,
   "metadata": {},
   "outputs": [],
   "source": [
    "# Some 'states' didn't have value, so I had to create this condition statement\n",
    "v = []\n",
    "for i in x:\n",
    "    if (len(us_aux[us_aux.STATE_FIPS == i].Income.values.astype(int)) == 1):\n",
    "        aux = us_aux[us_aux.STATE_FIPS == i].Income.values.astype(int).item()\n",
    "    else:\n",
    "        aux = 0\n",
    "    v.append(aux)"
   ]
  },
  {
   "cell_type": "code",
   "execution_count": 11,
   "metadata": {},
   "outputs": [],
   "source": [
    "# There were some Polygons that didn't have 'properties' such as:\n",
    "# base_json['objects']['subunits']['geometries'][35]['properties']\n",
    "# This was between Kentucky and Arizona\n",
    "\n",
    "# This wa tricky because I had to make a loop to insert income values of this specific list in only the id's that actually was in the unique list of the id's of the dataset.\n",
    "\n",
    "for i in range(len(x)):\n",
    "    if (pd.Series(base_json['objects']['subunits']['geometries'][i]['id']).isin(us_aux.STATE_FIPS).values[0]):\n",
    "        base_json['objects']['subunits']['geometries'][i]['properties']['Income_Value'] = v[i]"
   ]
  },
  {
   "cell_type": "markdown",
   "metadata": {},
   "source": [
    "Converting to a Choropleth map."
   ]
  },
  {
   "cell_type": "code",
   "execution_count": 12,
   "metadata": {},
   "outputs": [
    {
     "data": {
      "application/vnd.jupyter.widget-view+json": {
       "model_id": "05c9f26f6f3942d0a7befbf94e31b746",
       "version_major": 2,
       "version_minor": 0
      },
      "text/plain": [
       "Figure(axes=[ColorAxis(scale=ColorScale(scheme='YlOrRd'))], fig_margin={'top': 0, 'bottom': 0, 'left': 0, 'rig…"
      ]
     },
     "metadata": {},
     "output_type": "display_data"
    }
   ],
   "source": [
    "sc_geo = AlbersUSA()\n",
    "\n",
    "# In the example of bqplot the colors of the map_styles relates the 'id' of the json file and a 'variable number' of the color\n",
    "sc_c1 = ColorScale(scheme='YlOrRd')\n",
    "axis = ColorAxis(scale=sc_c1)\n",
    "\n",
    "color_dict = dict(zip(us_aux.STATE_FIPS, us_aux.Income))\n",
    "\n",
    "map_styles = {'color': color_dict,\n",
    "              'scales': {'projection': sc_geo, 'color': sc_c1}, 'colors': {'default_color': 'Grey'}}\n",
    "\n",
    "def_tt = Tooltip(fields=['id', 'name', 'Income_Value'])\n",
    "choro_map = Map(map_data=base_json, **map_styles, tooltip=def_tt)\n",
    "choro_map.interactions = {'click': 'select', 'hover': 'tooltip'}\n",
    "Figure(marks=[choro_map], axes=[axis], title='Choropleth Example for ' + str(year), fig_margin={'top': 0, 'bottom': 0, 'left': 0, 'right': 0})"
   ]
  },
  {
   "cell_type": "markdown",
   "metadata": {},
   "source": [
    "## Scatter plot"
   ]
  },
  {
   "cell_type": "markdown",
   "metadata": {},
   "source": [
    "### Basic"
   ]
  },
  {
   "cell_type": "code",
   "execution_count": 13,
   "metadata": {},
   "outputs": [
    {
     "data": {
      "application/vnd.jupyter.widget-view+json": {
       "model_id": "d6f19932f8be4dde82acaacbf921758d",
       "version_major": 2,
       "version_minor": 0
      },
      "text/plain": [
       "Figure(axes=[Axis(label='Original Variable', scale=LinearScale()), Axis(label='Lagged Variable', orientation='…"
      ]
     },
     "metadata": {},
     "output_type": "display_data"
    }
   ],
   "source": [
    "scat_Var = df_map[str(year)]\n",
    "scat_VarLag = ps.lag_spatial(W, df_map[str(year)]).tolist()\n",
    "\n",
    "sc_x = bq.LinearScale()\n",
    "sc_y = bq.LinearScale()\n",
    "ax_x = bq.Axis(label='Original Variable', scale=sc_x)\n",
    "ax_y = bq.Axis(label='Lagged Variable', scale=sc_y, orientation='vertical')\n",
    "\n",
    "scatt_plot = Scatter(x = scat_Var, y = scat_VarLag, scales={'x': sc_x, 'y': sc_y}, colors=['blue'])\n",
    "\n",
    "b,a = np.polyfit(scat_Var, scat_VarLag, 1)\n",
    "x_reg = [min(scat_Var), max(scat_Var)]\n",
    "y_reg = [a + i * b for i in x_reg]\n",
    "\n",
    "reg_line = Lines(x = x_reg, y = y_reg, scales={'x': sc_x, 'y': sc_y}, colors = ['black'])\n",
    "\n",
    "bq.Figure(axes=[ax_x, ax_y], marks=[scatt_plot, reg_line], title = 'Scatterplot for '+ str(year))"
   ]
  },
  {
   "cell_type": "markdown",
   "metadata": {},
   "source": [
    "### With dynamic regression from box select"
   ]
  },
  {
   "cell_type": "code",
   "execution_count": 14,
   "metadata": {},
   "outputs": [
    {
     "data": {
      "application/vnd.jupyter.widget-view+json": {
       "model_id": "6acfcb34c3c14d3389d7d606a5297a5e",
       "version_major": 2,
       "version_minor": 0
      },
      "text/plain": [
       "Figure(axes=[Axis(label='Original Variable', scale=LinearScale(), side='bottom'), Axis(label='Lagged Variable'…"
      ]
     },
     "metadata": {},
     "output_type": "display_data"
    }
   ],
   "source": [
    "default_marks = [scatt_plot, reg_line]\n",
    "br_sel_scat = BrushSelector(x_scale=sc_x, y_scale=sc_y, marks=default_marks, color='red')\n",
    "db_scat_brush = HTML(value = '[]')\n",
    "\n",
    "## call back for the selector\n",
    "def brush_callback_scat(change):\n",
    "    if (len(br_sel_scat.selected) == 0):\n",
    "        final_plot.marks = [scatt_plot, reg_line]\n",
    "    else:\n",
    "        db_scat_brush.value = str(br_sel_scat.selected)\n",
    "        brush_box_coordinates = re.sub('[\\[\\]]', '', db_scat_brush.value).split(', ')\n",
    "        x_bottom_left = float(brush_box_coordinates[0])\n",
    "        y_bottom_left = float(brush_box_coordinates[1])\n",
    "        x_upper_right = float(brush_box_coordinates[2])\n",
    "        y_upper_right = float(brush_box_coordinates[3])\n",
    "        conditions = (scat_Var > x_bottom_left) & (scat_Var < x_upper_right) & (pd.Series(scat_VarLag) < y_upper_right) & (pd.Series(scat_VarLag) > y_bottom_left)\n",
    "        sub_scat_Var = scat_Var.loc[conditions]\n",
    "        sub_scat_VarLag = pd.Series(scat_VarLag).loc[conditions]\n",
    "        sub_b,sub_a = np.polyfit(sub_scat_Var, sub_scat_VarLag, 1)\n",
    "        sub_x_reg = [min(scat_Var), max(scat_Var)]\n",
    "        sub_y_reg = [sub_a + i * sub_b for i in x_reg]\n",
    "        sub_reg_line = Lines(x = sub_x_reg, y = sub_y_reg, scales={'x': sc_x, 'y': sc_y}, colors = ['red'])\n",
    "        sub_reg_line = sub_reg_line\n",
    "        final_plot.marks = [scatt_plot, reg_line, sub_reg_line]\n",
    "    \n",
    "br_sel_scat.observe(brush_callback_scat, names=['brushing'])\n",
    "\n",
    "final_plot = bq.Figure(axes=[ax_x, ax_y], marks = default_marks, title = 'Scatterplot for '+ str(year), interaction = br_sel_scat)\n",
    "final_plot"
   ]
  },
  {
   "cell_type": "markdown",
   "metadata": {},
   "source": [
    "## Time Path plot"
   ]
  },
  {
   "cell_type": "markdown",
   "metadata": {},
   "source": [
    "In this plot, we have to select a specific state."
   ]
  },
  {
   "cell_type": "code",
   "execution_count": 85,
   "metadata": {},
   "outputs": [],
   "source": [
    "state_selected = 'California'\n",
    "\n",
    "state_row_index = list(df_map['Name']).index(state_selected)\n",
    "\n",
    "Var = df_map[cols_to_calculate].iloc[state_row_index,:]\n",
    "VarLag = all_lagged.iloc[state_row_index,:]"
   ]
  },
  {
   "cell_type": "code",
   "execution_count": 86,
   "metadata": {},
   "outputs": [
    {
     "data": {
      "application/vnd.jupyter.widget-view+json": {
       "model_id": "9b6794b0591c4783a646fa4828b15ed1",
       "version_major": 2,
       "version_minor": 0
      },
      "text/plain": [
       "Figure(axes=[Axis(label='Original Variable', scale=LinearScale()), Axis(label='Lagged Variable', orientation='…"
      ]
     },
     "metadata": {},
     "output_type": "display_data"
    }
   ],
   "source": [
    "tp_sc_x = LinearScale()\n",
    "tp_sc_y = LinearScale()\n",
    "\n",
    "tp_line = Lines(x = Var, y = VarLag, scales={'x': tp_sc_x, 'y': tp_sc_y})\n",
    "tp_ax_x = Axis(scale = tp_sc_x, label = 'Original Variable')\n",
    "tp_ax_y = Axis(scale = tp_sc_y, orientation = 'vertical', label = 'Lagged Variable')\n",
    "\n",
    "tp_scatt = Scatter(x = Var, y = VarLag, scales = {'x': tp_sc_x, 'y': tp_sc_y}, colors = ['black'])\n",
    "tp_scatt.default_size = 20\n",
    "\n",
    "tp_figure = Figure(marks = [tp_line, tp_scatt], axes = [tp_ax_x, tp_ax_y], title = 'Time Path for ' + state_selected)\n",
    "tp_figure"
   ]
  },
  {
   "cell_type": "markdown",
   "metadata": {},
   "source": [
    "## Time Series of Global Moran's I"
   ]
  },
  {
   "cell_type": "markdown",
   "metadata": {},
   "source": [
    "First, we need to calculate the Moran's I value for all years."
   ]
  },
  {
   "cell_type": "code",
   "execution_count": 87,
   "metadata": {},
   "outputs": [],
   "source": [
    "# Calculating Moran'I for every column\n",
    "morans = []\n",
    "for i in cols_to_calculate:\n",
    "    aux = ps.Moran(df_map[i], W).I\n",
    "    morans.append(aux)"
   ]
  },
  {
   "cell_type": "code",
   "execution_count": 88,
   "metadata": {},
   "outputs": [
    {
     "data": {
      "application/vnd.jupyter.widget-view+json": {
       "model_id": "5b9d92473ecc461cb75f41048ecfc3de",
       "version_major": 2,
       "version_minor": 0
      },
      "text/plain": [
       "Figure(axes=[Axis(label='Years', scale=LinearScale()), Axis(label=\"Moran's I\", orientation='vertical', scale=L…"
      ]
     },
     "metadata": {},
     "output_type": "display_data"
    }
   ],
   "source": [
    "ts_sc_x = LinearScale()\n",
    "ts_sc_y = LinearScale()\n",
    "\n",
    "moran_line = Lines(x = years, y = morans, scales={'x': ts_sc_x, 'y': ts_sc_y})\n",
    "moran_scatt = Scatter(x = years, y = morans, scales={'x': ts_sc_x, 'y': ts_sc_y}, colors=['black'])\n",
    "moran_scatt.default_size = 10\n",
    "\n",
    "ts_ax_x = Axis(scale = ts_sc_x, label='Years')\n",
    "ts_ax_y = Axis(scale = ts_sc_y, orientation='vertical', label='Moran\\'s I')\n",
    "\n",
    "ts_plot = Figure(marks=[moran_line, moran_scatt], axes=[ts_ax_x, ts_ax_y], title='Moran\\'s I Time Series plot')\n",
    "ts_plot"
   ]
  },
  {
   "cell_type": "markdown",
   "metadata": {},
   "source": [
    "## Density Plot"
   ]
  },
  {
   "cell_type": "markdown",
   "metadata": {},
   "source": [
    "First, let's estimate the density curve for a grid."
   ]
  },
  {
   "cell_type": "code",
   "execution_count": 90,
   "metadata": {},
   "outputs": [],
   "source": [
    "value_vetor = us_aux.Income.values\n",
    "kde1 = stats.gaussian_kde(value_vetor, bw_method = 'silverman')\n",
    "grid = np.linspace(start = min(value_vetor), stop = max(value_vetor), num = 10000)\n",
    "dens = kde1.evaluate(grid)"
   ]
  },
  {
   "cell_type": "code",
   "execution_count": 91,
   "metadata": {},
   "outputs": [
    {
     "data": {
      "application/vnd.jupyter.widget-view+json": {
       "model_id": "c1dd7a70a3414e3c86f92459ecb54d95",
       "version_major": 2,
       "version_minor": 0
      },
      "text/plain": [
       "Figure(axes=[Axis(label='Values', scale=LinearScale()), Axis(label='Density', orientation='vertical', scale=Li…"
      ]
     },
     "metadata": {},
     "output_type": "display_data"
    }
   ],
   "source": [
    "dp_sc_x = LinearScale()\n",
    "dp_sc_y = LinearScale()\n",
    "\n",
    "density_line = Lines(x = grid, y = dens, scales={'x': dp_sc_x, 'y': dp_sc_y})\n",
    "dp_ax_x = Axis(scale = dp_sc_x, label = 'Values')\n",
    "dp_ax_y = Axis(scale = dp_sc_y, orientation = 'vertical', label = 'Density')\n",
    "\n",
    "density_plot = Figure(marks = [density_line], axes = [dp_ax_x, dp_ax_y], title = 'Density plot for ' + str(year))\n",
    "density_plot.interpolation = 'basis' # In order to make to curve smoother\n",
    "density_plot"
   ]
  },
  {
   "cell_type": "markdown",
   "metadata": {},
   "source": [
    "## Boxplot (with scatter markers)"
   ]
  },
  {
   "cell_type": "code",
   "execution_count": 92,
   "metadata": {},
   "outputs": [],
   "source": [
    "bp_sc_x = LinearScale(min = year - 1, max = year + 1)\n",
    "bp_sc_y = LinearScale(min = min(us_aux.Income.values).astype(float), max = max(us_aux.Income.values).astype(float))\n",
    "bp_ax_x = Axis(label='Year of ' + str(year), scale = bp_sc_x)\n",
    "bp_ax_y = Axis(label='Variable Label', scale = bp_sc_y, orientation='vertical')\n",
    "\n",
    "x_box = [year]\n",
    "boxes = Boxplot(x = x_box, y = [us_aux.Income.values], scales = {'x': bp_sc_x, 'y': bp_sc_y},\n",
    "                box_fill_color = 'gray', outlier_fill_color = 'black')"
   ]
  },
  {
   "cell_type": "code",
   "execution_count": 93,
   "metadata": {},
   "outputs": [
    {
     "data": {
      "application/vnd.jupyter.widget-view+json": {
       "model_id": "981d116c7960436bac785d62b0b4a00e",
       "version_major": 2,
       "version_minor": 0
      },
      "text/plain": [
       "Figure(axes=[Axis(label='Year of 2000', scale=LinearScale(max=2001.0, min=1999.0), side='bottom'), Axis(label=…"
      ]
     },
     "metadata": {},
     "output_type": "display_data"
    }
   ],
   "source": [
    "# Boxplot with markers\n",
    "x_scat_box = [year] * len(us_aux.Income.values)\n",
    "y_scat_box = us_aux.Income.values.tolist()\n",
    "scatt_box = Scatter(x = x_scat_box, y = y_scat_box, scales={'x': bp_sc_x, 'y': bp_sc_y}, colors=['black'])\n",
    "scatt_box.default_size = 12\n",
    "bq.Figure(axes=[bp_ax_x, bp_ax_y], marks=[boxes, scatt_box], title = 'Boxplot of Income in '+ str(year))"
   ]
  },
  {
   "cell_type": "markdown",
   "metadata": {},
   "source": [
    "# Some interactions"
   ]
  },
  {
   "cell_type": "markdown",
   "metadata": {},
   "source": [
    "## Choropleth with Time Path"
   ]
  },
  {
   "cell_type": "code",
   "execution_count": 94,
   "metadata": {},
   "outputs": [],
   "source": [
    "def hover_callback(name, value):\n",
    "    state_hovered = value['data']['name']\n",
    "    state_row_index = list(df_map['Name']).index(state_hovered)\n",
    "    Var = df_map[cols_to_calculate].iloc[state_row_index,:]\n",
    "    VarLag = all_lagged.iloc[state_row_index,:]\n",
    "    tp_line.x = Var\n",
    "    tp_line.y = VarLag\n",
    "    tp_scatt.x = Var\n",
    "    tp_scatt.y = VarLag\n",
    "    tp_figure.title = 'Time Path for ' + state_hovered\n",
    "    \n",
    "choro_map = Map(map_data = base_json, **map_styles, tooltip=tp_figure)\n",
    "choro_map.on_hover(hover_callback)"
   ]
  },
  {
   "cell_type": "code",
   "execution_count": 95,
   "metadata": {},
   "outputs": [
    {
     "data": {
      "application/vnd.jupyter.widget-view+json": {
       "model_id": "fe6210f977f14816a0a29971b7bbb8d8",
       "version_major": 2,
       "version_minor": 0
      },
      "text/plain": [
       "Figure(axes=[ColorAxis(scale=ColorScale(scheme='YlOrRd'))], fig_margin={'top': 0, 'bottom': 0, 'left': 0, 'rig…"
      ]
     },
     "metadata": {},
     "output_type": "display_data"
    }
   ],
   "source": [
    "Figure(marks=[choro_map], axes=[axis], title='Choropleth with TimePath', fig_margin={'top': 0, 'bottom': 0, 'left': 0, 'right': 0})"
   ]
  },
  {
   "cell_type": "code",
   "execution_count": null,
   "metadata": {},
   "outputs": [],
   "source": []
  }
 ],
 "metadata": {
  "kernelspec": {
   "display_name": "Python 3",
   "language": "python",
   "name": "python3"
  },
  "language_info": {
   "codemirror_mode": {
    "name": "ipython",
    "version": 3
   },
   "file_extension": ".py",
   "mimetype": "text/x-python",
   "name": "python",
   "nbconvert_exporter": "python",
   "pygments_lexer": "ipython3",
   "version": "3.6.6"
  }
 },
 "nbformat": 4,
 "nbformat_minor": 2
}
