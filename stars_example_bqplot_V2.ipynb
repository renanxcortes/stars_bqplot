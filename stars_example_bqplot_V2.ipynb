{
 "cells": [
  {
   "cell_type": "markdown",
   "metadata": {},
   "source": [
    "# STARS base plots in bqplot"
   ]
  },
  {
   "cell_type": "markdown",
   "metadata": {},
   "source": [
    "## Loading Data and initial wrangling"
   ]
  },
  {
   "cell_type": "code",
   "execution_count": 1,
   "metadata": {},
   "outputs": [],
   "source": [
    "# I had to update some jupyter components before installing bqplot\n",
    "# conda update jupyter_core jupyter_client\n",
    "# conda install -c conda-forge bqplot\n",
    "import bqplot as bq\n",
    "import pandas as pd\n",
    "import pysal as ps\n",
    "from libpysal.weights.Contiguity import Queen\n",
    "import bqplot.pyplot as plt\n",
    "import geopandas as gpd\n",
    "import numpy as np\n",
    "from bqplot.interacts import (\n",
    "    FastIntervalSelector, IndexSelector, BrushIntervalSelector,\n",
    "    BrushSelector, MultiSelector, LassoSelector, PanZoom, HandDraw\n",
    ")\n",
    "from ipywidgets import ToggleButtons, VBox, HTML\n",
    "import re\n",
    "from scipy import stats\n",
    "from bqplot import * # Imports Figure, Map, Mercator, Orthographic, ColorScale, ColorAxis, AlbersUSA, topo_load, Tooltip, Scatter, Lines, etc."
   ]
  },
  {
   "cell_type": "code",
   "execution_count": 2,
   "metadata": {},
   "outputs": [],
   "source": [
    "csv_path = ps.examples.get_path('usjoin.csv')\n",
    "usjoin = pd.read_csv(csv_path)"
   ]
  },
  {
   "cell_type": "code",
   "execution_count": 3,
   "metadata": {},
   "outputs": [],
   "source": [
    "years = list(range(1929, 2010))                  \n",
    "cols_to_calculate = list(map(str, years))"
   ]
  },
  {
   "cell_type": "code",
   "execution_count": 4,
   "metadata": {},
   "outputs": [],
   "source": [
    "shp_path = ps.examples.get_path('us48.shp')\n",
    "us48_map = gpd.read_file(shp_path)\n",
    "us48_map = us48_map[['STATE_FIPS','geometry']]\n",
    "us48_map.STATE_FIPS = us48_map.STATE_FIPS.astype(int)\n",
    "df_map = us48_map.merge(usjoin, on='STATE_FIPS')"
   ]
  },
  {
   "cell_type": "code",
   "execution_count": 5,
   "metadata": {},
   "outputs": [
    {
     "data": {
      "text/html": [
       "<div>\n",
       "<style scoped>\n",
       "    .dataframe tbody tr th:only-of-type {\n",
       "        vertical-align: middle;\n",
       "    }\n",
       "\n",
       "    .dataframe tbody tr th {\n",
       "        vertical-align: top;\n",
       "    }\n",
       "\n",
       "    .dataframe thead th {\n",
       "        text-align: right;\n",
       "    }\n",
       "</style>\n",
       "<table border=\"1\" class=\"dataframe\">\n",
       "  <thead>\n",
       "    <tr style=\"text-align: right;\">\n",
       "      <th></th>\n",
       "      <th>STATE_FIPS</th>\n",
       "      <th>geometry</th>\n",
       "      <th>Name</th>\n",
       "      <th>1929</th>\n",
       "      <th>1930</th>\n",
       "      <th>1931</th>\n",
       "      <th>1932</th>\n",
       "      <th>1933</th>\n",
       "      <th>1934</th>\n",
       "      <th>1935</th>\n",
       "      <th>...</th>\n",
       "      <th>2000</th>\n",
       "      <th>2001</th>\n",
       "      <th>2002</th>\n",
       "      <th>2003</th>\n",
       "      <th>2004</th>\n",
       "      <th>2005</th>\n",
       "      <th>2006</th>\n",
       "      <th>2007</th>\n",
       "      <th>2008</th>\n",
       "      <th>2009</th>\n",
       "    </tr>\n",
       "  </thead>\n",
       "  <tbody>\n",
       "    <tr>\n",
       "      <th>0</th>\n",
       "      <td>53</td>\n",
       "      <td>(POLYGON ((-122.400749206543 48.22539520263672...</td>\n",
       "      <td>Washington</td>\n",
       "      <td>741</td>\n",
       "      <td>658</td>\n",
       "      <td>534</td>\n",
       "      <td>402</td>\n",
       "      <td>376</td>\n",
       "      <td>443</td>\n",
       "      <td>490</td>\n",
       "      <td>...</td>\n",
       "      <td>31528</td>\n",
       "      <td>32053</td>\n",
       "      <td>32206</td>\n",
       "      <td>32934</td>\n",
       "      <td>34984</td>\n",
       "      <td>35738</td>\n",
       "      <td>38477</td>\n",
       "      <td>40782</td>\n",
       "      <td>41588</td>\n",
       "      <td>40619</td>\n",
       "    </tr>\n",
       "    <tr>\n",
       "      <th>1</th>\n",
       "      <td>30</td>\n",
       "      <td>POLYGON ((-111.4746322631836 44.70223999023438...</td>\n",
       "      <td>Montana</td>\n",
       "      <td>592</td>\n",
       "      <td>501</td>\n",
       "      <td>382</td>\n",
       "      <td>339</td>\n",
       "      <td>298</td>\n",
       "      <td>364</td>\n",
       "      <td>476</td>\n",
       "      <td>...</td>\n",
       "      <td>22569</td>\n",
       "      <td>24342</td>\n",
       "      <td>24699</td>\n",
       "      <td>25963</td>\n",
       "      <td>27517</td>\n",
       "      <td>28987</td>\n",
       "      <td>30942</td>\n",
       "      <td>32625</td>\n",
       "      <td>33293</td>\n",
       "      <td>32699</td>\n",
       "    </tr>\n",
       "    <tr>\n",
       "      <th>2</th>\n",
       "      <td>23</td>\n",
       "      <td>(POLYGON ((-69.77778625488281 44.0740737915039...</td>\n",
       "      <td>Maine</td>\n",
       "      <td>601</td>\n",
       "      <td>576</td>\n",
       "      <td>491</td>\n",
       "      <td>377</td>\n",
       "      <td>371</td>\n",
       "      <td>416</td>\n",
       "      <td>430</td>\n",
       "      <td>...</td>\n",
       "      <td>25623</td>\n",
       "      <td>27068</td>\n",
       "      <td>27731</td>\n",
       "      <td>28727</td>\n",
       "      <td>30201</td>\n",
       "      <td>30721</td>\n",
       "      <td>32340</td>\n",
       "      <td>33620</td>\n",
       "      <td>34906</td>\n",
       "      <td>35268</td>\n",
       "    </tr>\n",
       "    <tr>\n",
       "      <th>3</th>\n",
       "      <td>38</td>\n",
       "      <td>POLYGON ((-98.73005676269531 45.93829727172852...</td>\n",
       "      <td>North Dakota</td>\n",
       "      <td>382</td>\n",
       "      <td>311</td>\n",
       "      <td>187</td>\n",
       "      <td>176</td>\n",
       "      <td>146</td>\n",
       "      <td>180</td>\n",
       "      <td>272</td>\n",
       "      <td>...</td>\n",
       "      <td>25068</td>\n",
       "      <td>26118</td>\n",
       "      <td>26770</td>\n",
       "      <td>29109</td>\n",
       "      <td>29676</td>\n",
       "      <td>31644</td>\n",
       "      <td>32856</td>\n",
       "      <td>35882</td>\n",
       "      <td>39009</td>\n",
       "      <td>38672</td>\n",
       "    </tr>\n",
       "    <tr>\n",
       "      <th>4</th>\n",
       "      <td>46</td>\n",
       "      <td>POLYGON ((-102.7879333496094 42.99532318115234...</td>\n",
       "      <td>South Dakota</td>\n",
       "      <td>426</td>\n",
       "      <td>366</td>\n",
       "      <td>241</td>\n",
       "      <td>189</td>\n",
       "      <td>129</td>\n",
       "      <td>184</td>\n",
       "      <td>309</td>\n",
       "      <td>...</td>\n",
       "      <td>26115</td>\n",
       "      <td>27531</td>\n",
       "      <td>27727</td>\n",
       "      <td>30072</td>\n",
       "      <td>31765</td>\n",
       "      <td>32726</td>\n",
       "      <td>33320</td>\n",
       "      <td>35998</td>\n",
       "      <td>38188</td>\n",
       "      <td>36499</td>\n",
       "    </tr>\n",
       "  </tbody>\n",
       "</table>\n",
       "<p>5 rows × 84 columns</p>\n",
       "</div>"
      ],
      "text/plain": [
       "   STATE_FIPS                                           geometry  \\\n",
       "0          53  (POLYGON ((-122.400749206543 48.22539520263672...   \n",
       "1          30  POLYGON ((-111.4746322631836 44.70223999023438...   \n",
       "2          23  (POLYGON ((-69.77778625488281 44.0740737915039...   \n",
       "3          38  POLYGON ((-98.73005676269531 45.93829727172852...   \n",
       "4          46  POLYGON ((-102.7879333496094 42.99532318115234...   \n",
       "\n",
       "           Name  1929  1930  1931  1932  1933  1934  1935  ...     2000  \\\n",
       "0    Washington   741   658   534   402   376   443   490  ...    31528   \n",
       "1       Montana   592   501   382   339   298   364   476  ...    22569   \n",
       "2         Maine   601   576   491   377   371   416   430  ...    25623   \n",
       "3  North Dakota   382   311   187   176   146   180   272  ...    25068   \n",
       "4  South Dakota   426   366   241   189   129   184   309  ...    26115   \n",
       "\n",
       "    2001   2002   2003   2004   2005   2006   2007   2008   2009  \n",
       "0  32053  32206  32934  34984  35738  38477  40782  41588  40619  \n",
       "1  24342  24699  25963  27517  28987  30942  32625  33293  32699  \n",
       "2  27068  27731  28727  30201  30721  32340  33620  34906  35268  \n",
       "3  26118  26770  29109  29676  31644  32856  35882  39009  38672  \n",
       "4  27531  27727  30072  31765  32726  33320  35998  38188  36499  \n",
       "\n",
       "[5 rows x 84 columns]"
      ]
     },
     "execution_count": 5,
     "metadata": {},
     "output_type": "execute_result"
    }
   ],
   "source": [
    "df_map.head()"
   ]
  },
  {
   "cell_type": "code",
   "execution_count": 6,
   "metadata": {},
   "outputs": [],
   "source": [
    "# Making the dataset tidy\n",
    "us_tidy = pd.melt(df_map, \n",
    "                  id_vars=['Name', 'STATE_FIPS', 'geometry'],\n",
    "                  value_vars=cols_to_calculate, \n",
    "                  var_name='Year', \n",
    "                  value_name='Income')\n",
    "\n",
    "# Function that calculates Per Capita Ratio\n",
    "def calculate_pcr(x):\n",
    "    return x / np.mean(x)\n",
    "\n",
    "# Establishing a contiguity matrix for a specific year. It is the same for all years.\n",
    "W = Queen.from_dataframe(us_tidy[us_tidy.Year == '1929'])\n",
    "W.transform = 'r'\n",
    "\n",
    "# Function that calculates lagged value\n",
    "def calculate_lag_value(x):\n",
    "    return ps.lag_spatial(W, x)\n",
    "\n",
    "# In the first function (calculate_pcr), a series is returned, in the second (calculate_lag_value), an array, so the assign method is used to keep the indexes of the pandas Dataframe\n",
    "\n",
    "us_tidy['PCR'] = us_tidy.groupby('Year').Income.apply(lambda x: calculate_pcr(x))\n",
    "us_tidy = us_tidy.assign(Income_Lagged = us_tidy.groupby('Year').Income.transform(calculate_lag_value),\n",
    "                         PCR_Lagged = us_tidy.groupby('Year').PCR.transform(calculate_lag_value))"
   ]
  },
  {
   "cell_type": "code",
   "execution_count": 7,
   "metadata": {},
   "outputs": [
    {
     "data": {
      "text/html": [
       "<div>\n",
       "<style scoped>\n",
       "    .dataframe tbody tr th:only-of-type {\n",
       "        vertical-align: middle;\n",
       "    }\n",
       "\n",
       "    .dataframe tbody tr th {\n",
       "        vertical-align: top;\n",
       "    }\n",
       "\n",
       "    .dataframe thead th {\n",
       "        text-align: right;\n",
       "    }\n",
       "</style>\n",
       "<table border=\"1\" class=\"dataframe\">\n",
       "  <thead>\n",
       "    <tr style=\"text-align: right;\">\n",
       "      <th></th>\n",
       "      <th>Name</th>\n",
       "      <th>STATE_FIPS</th>\n",
       "      <th>geometry</th>\n",
       "      <th>Year</th>\n",
       "      <th>Income</th>\n",
       "      <th>PCR</th>\n",
       "      <th>Income_Lagged</th>\n",
       "      <th>PCR_Lagged</th>\n",
       "    </tr>\n",
       "  </thead>\n",
       "  <tbody>\n",
       "    <tr>\n",
       "      <th>0</th>\n",
       "      <td>Washington</td>\n",
       "      <td>53</td>\n",
       "      <td>(POLYGON ((-122.400749206543 48.22539520263672...</td>\n",
       "      <td>1929</td>\n",
       "      <td>741</td>\n",
       "      <td>1.204470</td>\n",
       "      <td>587.500000</td>\n",
       "      <td>0.954961</td>\n",
       "    </tr>\n",
       "    <tr>\n",
       "      <th>1</th>\n",
       "      <td>Montana</td>\n",
       "      <td>30</td>\n",
       "      <td>POLYGON ((-111.4746322631836 44.70223999023438...</td>\n",
       "      <td>1929</td>\n",
       "      <td>592</td>\n",
       "      <td>0.962276</td>\n",
       "      <td>497.500000</td>\n",
       "      <td>0.808669</td>\n",
       "    </tr>\n",
       "    <tr>\n",
       "      <th>2</th>\n",
       "      <td>Maine</td>\n",
       "      <td>23</td>\n",
       "      <td>(POLYGON ((-69.77778625488281 44.0740737915039...</td>\n",
       "      <td>1929</td>\n",
       "      <td>601</td>\n",
       "      <td>0.976905</td>\n",
       "      <td>686.000000</td>\n",
       "      <td>1.115069</td>\n",
       "    </tr>\n",
       "    <tr>\n",
       "      <th>3</th>\n",
       "      <td>North Dakota</td>\n",
       "      <td>38</td>\n",
       "      <td>POLYGON ((-98.73005676269531 45.93829727172852...</td>\n",
       "      <td>1929</td>\n",
       "      <td>382</td>\n",
       "      <td>0.620928</td>\n",
       "      <td>539.000000</td>\n",
       "      <td>0.876126</td>\n",
       "    </tr>\n",
       "    <tr>\n",
       "      <th>4</th>\n",
       "      <td>South Dakota</td>\n",
       "      <td>46</td>\n",
       "      <td>POLYGON ((-102.7879333496094 42.99532318115234...</td>\n",
       "      <td>1929</td>\n",
       "      <td>426</td>\n",
       "      <td>0.692448</td>\n",
       "      <td>570.833333</td>\n",
       "      <td>0.927870</td>\n",
       "    </tr>\n",
       "  </tbody>\n",
       "</table>\n",
       "</div>"
      ],
      "text/plain": [
       "           Name  STATE_FIPS  \\\n",
       "0    Washington          53   \n",
       "1       Montana          30   \n",
       "2         Maine          23   \n",
       "3  North Dakota          38   \n",
       "4  South Dakota          46   \n",
       "\n",
       "                                            geometry  Year  Income       PCR  \\\n",
       "0  (POLYGON ((-122.400749206543 48.22539520263672...  1929     741  1.204470   \n",
       "1  POLYGON ((-111.4746322631836 44.70223999023438...  1929     592  0.962276   \n",
       "2  (POLYGON ((-69.77778625488281 44.0740737915039...  1929     601  0.976905   \n",
       "3  POLYGON ((-98.73005676269531 45.93829727172852...  1929     382  0.620928   \n",
       "4  POLYGON ((-102.7879333496094 42.99532318115234...  1929     426  0.692448   \n",
       "\n",
       "   Income_Lagged  PCR_Lagged  \n",
       "0     587.500000    0.954961  \n",
       "1     497.500000    0.808669  \n",
       "2     686.000000    1.115069  \n",
       "3     539.000000    0.876126  \n",
       "4     570.833333    0.927870  "
      ]
     },
     "execution_count": 7,
     "metadata": {},
     "output_type": "execute_result"
    }
   ],
   "source": [
    "us_tidy.head()"
   ]
  },
  {
   "cell_type": "markdown",
   "metadata": {},
   "source": [
    "## Choropleth Map"
   ]
  },
  {
   "cell_type": "code",
   "execution_count": 14,
   "metadata": {},
   "outputs": [
    {
     "data": {
      "text/html": [
       "<div>\n",
       "<style scoped>\n",
       "    .dataframe tbody tr th:only-of-type {\n",
       "        vertical-align: middle;\n",
       "    }\n",
       "\n",
       "    .dataframe tbody tr th {\n",
       "        vertical-align: top;\n",
       "    }\n",
       "\n",
       "    .dataframe thead th {\n",
       "        text-align: right;\n",
       "    }\n",
       "</style>\n",
       "<table border=\"1\" class=\"dataframe\">\n",
       "  <thead>\n",
       "    <tr style=\"text-align: right;\">\n",
       "      <th></th>\n",
       "      <th>Name</th>\n",
       "      <th>STATE_FIPS</th>\n",
       "      <th>geometry</th>\n",
       "      <th>Year</th>\n",
       "      <th>Income</th>\n",
       "      <th>PCR</th>\n",
       "      <th>Income_Lagged</th>\n",
       "      <th>PCR_Lagged</th>\n",
       "    </tr>\n",
       "  </thead>\n",
       "  <tbody>\n",
       "    <tr>\n",
       "      <th>3408</th>\n",
       "      <td>Washington</td>\n",
       "      <td>53</td>\n",
       "      <td>(POLYGON ((-122.400749206543 48.22539520263672...</td>\n",
       "      <td>2000</td>\n",
       "      <td>31528</td>\n",
       "      <td>1.118567</td>\n",
       "      <td>26265.000000</td>\n",
       "      <td>0.931844</td>\n",
       "    </tr>\n",
       "    <tr>\n",
       "      <th>3409</th>\n",
       "      <td>Montana</td>\n",
       "      <td>30</td>\n",
       "      <td>POLYGON ((-111.4746322631836 44.70223999023438...</td>\n",
       "      <td>2000</td>\n",
       "      <td>22569</td>\n",
       "      <td>0.800715</td>\n",
       "      <td>25648.250000</td>\n",
       "      <td>0.909962</td>\n",
       "    </tr>\n",
       "    <tr>\n",
       "      <th>3410</th>\n",
       "      <td>Maine</td>\n",
       "      <td>23</td>\n",
       "      <td>(POLYGON ((-69.77778625488281 44.0740737915039...</td>\n",
       "      <td>2000</td>\n",
       "      <td>25623</td>\n",
       "      <td>0.909066</td>\n",
       "      <td>33332.000000</td>\n",
       "      <td>1.182570</td>\n",
       "    </tr>\n",
       "    <tr>\n",
       "      <th>3411</th>\n",
       "      <td>North Dakota</td>\n",
       "      <td>38</td>\n",
       "      <td>POLYGON ((-98.73005676269531 45.93829727172852...</td>\n",
       "      <td>2000</td>\n",
       "      <td>25068</td>\n",
       "      <td>0.889376</td>\n",
       "      <td>26928.333333</td>\n",
       "      <td>0.955378</td>\n",
       "    </tr>\n",
       "    <tr>\n",
       "      <th>3412</th>\n",
       "      <td>South Dakota</td>\n",
       "      <td>46</td>\n",
       "      <td>POLYGON ((-102.7879333496094 42.99532318115234...</td>\n",
       "      <td>2000</td>\n",
       "      <td>26115</td>\n",
       "      <td>0.926522</td>\n",
       "      <td>26920.000000</td>\n",
       "      <td>0.955082</td>\n",
       "    </tr>\n",
       "  </tbody>\n",
       "</table>\n",
       "</div>"
      ],
      "text/plain": [
       "              Name  STATE_FIPS  \\\n",
       "3408    Washington          53   \n",
       "3409       Montana          30   \n",
       "3410         Maine          23   \n",
       "3411  North Dakota          38   \n",
       "3412  South Dakota          46   \n",
       "\n",
       "                                               geometry  Year  Income  \\\n",
       "3408  (POLYGON ((-122.400749206543 48.22539520263672...  2000   31528   \n",
       "3409  POLYGON ((-111.4746322631836 44.70223999023438...  2000   22569   \n",
       "3410  (POLYGON ((-69.77778625488281 44.0740737915039...  2000   25623   \n",
       "3411  POLYGON ((-98.73005676269531 45.93829727172852...  2000   25068   \n",
       "3412  POLYGON ((-102.7879333496094 42.99532318115234...  2000   26115   \n",
       "\n",
       "           PCR  Income_Lagged  PCR_Lagged  \n",
       "3408  1.118567   26265.000000    0.931844  \n",
       "3409  0.800715   25648.250000    0.909962  \n",
       "3410  0.909066   33332.000000    1.182570  \n",
       "3411  0.889376   26928.333333    0.955378  \n",
       "3412  0.926522   26920.000000    0.955082  "
      ]
     },
     "execution_count": 14,
     "metadata": {},
     "output_type": "execute_result"
    }
   ],
   "source": [
    "year = 2000\n",
    "us_aux = us_tidy[us_tidy.Year == str(year)]\n",
    "us_aux.head()"
   ]
  },
  {
   "cell_type": "code",
   "execution_count": 9,
   "metadata": {},
   "outputs": [],
   "source": [
    "base_json = topo_load('map_data/USStatesMap.json')"
   ]
  },
  {
   "cell_type": "code",
   "execution_count": 10,
   "metadata": {},
   "outputs": [],
   "source": [
    "# List of indexes (ids) of the json file\n",
    "x = []\n",
    "for i in range(len(base_json['objects']['subunits']['geometries'])):\n",
    "    aux = base_json['objects']['subunits']['geometries'][i]['id']\n",
    "    x.append(aux)"
   ]
  },
  {
   "cell_type": "code",
   "execution_count": 11,
   "metadata": {},
   "outputs": [],
   "source": [
    "# Some 'states' didn't have value, so I had to create this condition statement\n",
    "v = []\n",
    "for i in x:\n",
    "    if (len(us_aux[us_aux.STATE_FIPS == i].Income.values.astype(int)) == 1):\n",
    "        aux = us_aux[us_aux.STATE_FIPS == i].Income.values.astype(int).item()\n",
    "    else:\n",
    "        aux = 0\n",
    "    v.append(aux)"
   ]
  },
  {
   "cell_type": "code",
   "execution_count": 12,
   "metadata": {},
   "outputs": [],
   "source": [
    "# There were some Polygons that didn't have 'properties' such as:\n",
    "# base_json['objects']['subunits']['geometries'][35]['properties']\n",
    "# This was between Kentucky and Arizona\n",
    "\n",
    "# This wa tricky because I had to make a loop to insert income values of this specific list in only the id's that actually was in the unique list of the id's of the dataset.\n",
    "\n",
    "for i in range(len(x)):\n",
    "    if (pd.Series(base_json['objects']['subunits']['geometries'][i]['id']).isin(us_aux.STATE_FIPS).values[0]):\n",
    "        base_json['objects']['subunits']['geometries'][i]['properties']['Income_Value'] = v[i]"
   ]
  },
  {
   "cell_type": "markdown",
   "metadata": {},
   "source": [
    "Converting to a Choropleth map."
   ]
  },
  {
   "cell_type": "code",
   "execution_count": 13,
   "metadata": {},
   "outputs": [
    {
     "data": {
      "application/vnd.jupyter.widget-view+json": {
       "model_id": "59fb8441311041bab2dc34316ac1f2a2",
       "version_major": 2,
       "version_minor": 0
      },
      "text/plain": [
       "Figure(axes=[ColorAxis(scale=ColorScale(scheme='YlOrRd'))], fig_margin={'top': 0, 'bottom': 0, 'left': 0, 'rig…"
      ]
     },
     "metadata": {},
     "output_type": "display_data"
    }
   ],
   "source": [
    "sc_geo = AlbersUSA()\n",
    "\n",
    "# In the example of bqplot the colors of the map_styles relates the 'id' of the json file and a 'variable number' of the color\n",
    "sc_c1 = ColorScale(scheme='YlOrRd')\n",
    "axis = ColorAxis(scale=sc_c1)\n",
    "\n",
    "color_dict = dict(zip(us_aux.STATE_FIPS, us_aux.Income))\n",
    "\n",
    "map_styles = {'color': color_dict,\n",
    "              'scales': {'projection': sc_geo, 'color': sc_c1}, 'colors': {'default_color': 'Grey'}}\n",
    "\n",
    "def_tt = Tooltip(fields=['id', 'name', 'Income_Value'])\n",
    "choro_map = Map(map_data=base_json, **map_styles, tooltip=def_tt)\n",
    "choro_map.interactions = {'click': 'select', 'hover': 'tooltip'}\n",
    "Figure(marks=[choro_map], axes=[axis], title='Choropleth Example for ' + str(year), fig_margin={'top': 0, 'bottom': 0, 'left': 0, 'right': 0})"
   ]
  },
  {
   "cell_type": "markdown",
   "metadata": {},
   "source": [
    "## Scatter plot"
   ]
  },
  {
   "cell_type": "markdown",
   "metadata": {},
   "source": [
    "### Basic"
   ]
  },
  {
   "cell_type": "code",
   "execution_count": 15,
   "metadata": {},
   "outputs": [
    {
     "data": {
      "application/vnd.jupyter.widget-view+json": {
       "model_id": "fb5febc05c03459bb2c86f73e3d9b03e",
       "version_major": 2,
       "version_minor": 0
      },
      "text/plain": [
       "Figure(axes=[Axis(label='Original Variable', scale=LinearScale()), Axis(label='Lagged Variable', orientation='…"
      ]
     },
     "metadata": {},
     "output_type": "display_data"
    }
   ],
   "source": [
    "scat_Var = us_aux.Income\n",
    "scat_VarLag = us_aux.Income_Lagged\n",
    "\n",
    "sc_x = bq.LinearScale()\n",
    "sc_y = bq.LinearScale()\n",
    "ax_x = bq.Axis(label='Original Variable', scale=sc_x)\n",
    "ax_y = bq.Axis(label='Lagged Variable', scale=sc_y, orientation='vertical')\n",
    "\n",
    "scatt_plot = Scatter(x = scat_Var, y = scat_VarLag, scales={'x': sc_x, 'y': sc_y}, colors=['blue'])\n",
    "\n",
    "b,a = np.polyfit(scat_Var, scat_VarLag, 1)\n",
    "x_reg = [min(scat_Var), max(scat_Var)]\n",
    "y_reg = [a + i * b for i in x_reg]\n",
    "\n",
    "reg_line = Lines(x = x_reg, y = y_reg, scales={'x': sc_x, 'y': sc_y}, colors = ['black'])\n",
    "\n",
    "bq.Figure(axes=[ax_x, ax_y], marks=[scatt_plot, reg_line], title = 'Scatterplot for '+ str(year))"
   ]
  },
  {
   "cell_type": "markdown",
   "metadata": {},
   "source": [
    "### With dynamic regression from box select"
   ]
  },
  {
   "cell_type": "code",
   "execution_count": 16,
   "metadata": {},
   "outputs": [
    {
     "data": {
      "application/vnd.jupyter.widget-view+json": {
       "model_id": "2d95f4b789c74e12ab0a157ef2017664",
       "version_major": 2,
       "version_minor": 0
      },
      "text/plain": [
       "Figure(axes=[Axis(label='Original Variable', scale=LinearScale(), side='bottom'), Axis(label='Lagged Variable'…"
      ]
     },
     "metadata": {},
     "output_type": "display_data"
    }
   ],
   "source": [
    "default_marks = [scatt_plot, reg_line]\n",
    "br_sel_scat = BrushSelector(x_scale=sc_x, y_scale=sc_y, marks=default_marks, color='red')\n",
    "db_scat_brush = HTML(value = '[]')\n",
    "\n",
    "## call back for the selector\n",
    "def brush_callback_scat(change):\n",
    "    if (len(br_sel_scat.selected) == 0):\n",
    "        final_plot.marks = [scatt_plot, reg_line]\n",
    "    else:\n",
    "        db_scat_brush.value = str(br_sel_scat.selected)\n",
    "        brush_box_coordinates = re.sub('[\\[\\]]', '', db_scat_brush.value).split(', ')\n",
    "        x_bottom_left = float(brush_box_coordinates[0])\n",
    "        y_bottom_left = float(brush_box_coordinates[1])\n",
    "        x_upper_right = float(brush_box_coordinates[2])\n",
    "        y_upper_right = float(brush_box_coordinates[3])\n",
    "        conditions = (scat_Var > x_bottom_left) & (scat_Var < x_upper_right) & (pd.Series(scat_VarLag) < y_upper_right) & (pd.Series(scat_VarLag) > y_bottom_left)\n",
    "        sub_scat_Var = scat_Var.loc[conditions]\n",
    "        sub_scat_VarLag = pd.Series(scat_VarLag).loc[conditions]\n",
    "        sub_b,sub_a = np.polyfit(sub_scat_Var, sub_scat_VarLag, 1)\n",
    "        sub_x_reg = [min(scat_Var), max(scat_Var)]\n",
    "        sub_y_reg = [sub_a + i * sub_b for i in x_reg]\n",
    "        sub_reg_line = Lines(x = sub_x_reg, y = sub_y_reg, scales={'x': sc_x, 'y': sc_y}, colors = ['red'])\n",
    "        sub_reg_line = sub_reg_line\n",
    "        final_plot.marks = [scatt_plot, reg_line, sub_reg_line]\n",
    "    \n",
    "br_sel_scat.observe(brush_callback_scat, names=['brushing'])\n",
    "\n",
    "final_plot = bq.Figure(axes=[ax_x, ax_y], marks = default_marks, title = 'Scatterplot for '+ str(year), interaction = br_sel_scat)\n",
    "final_plot"
   ]
  },
  {
   "cell_type": "markdown",
   "metadata": {},
   "source": [
    "## Time Path plot"
   ]
  },
  {
   "cell_type": "markdown",
   "metadata": {},
   "source": [
    "In this plot, we have to select a specific state."
   ]
  },
  {
   "cell_type": "code",
   "execution_count": 21,
   "metadata": {},
   "outputs": [],
   "source": [
    "state_selected = 'California'\n",
    "us_tidy_aux = us_tidy[us_tidy.Name == state_selected]\n",
    "\n",
    "Var = us_tidy_aux.PCR\n",
    "VarLag = us_tidy_aux.PCR_Lagged"
   ]
  },
  {
   "cell_type": "code",
   "execution_count": 22,
   "metadata": {},
   "outputs": [
    {
     "data": {
      "application/vnd.jupyter.widget-view+json": {
       "model_id": "51045548376147239eaf91d4922d0fcf",
       "version_major": 2,
       "version_minor": 0
      },
      "text/plain": [
       "Figure(axes=[Axis(label='Original Variable', scale=LinearScale()), Axis(label='Lagged Variable', orientation='…"
      ]
     },
     "metadata": {},
     "output_type": "display_data"
    }
   ],
   "source": [
    "tp_sc_x = LinearScale()\n",
    "tp_sc_y = LinearScale()\n",
    "\n",
    "tp_line = Lines(x = Var, y = VarLag, scales={'x': tp_sc_x, 'y': tp_sc_y})\n",
    "tp_ax_x = Axis(scale = tp_sc_x, label = 'Original Variable')\n",
    "tp_ax_y = Axis(scale = tp_sc_y, orientation = 'vertical', label = 'Lagged Variable')\n",
    "\n",
    "tp_scatt = Scatter(x = Var, y = VarLag, scales = {'x': tp_sc_x, 'y': tp_sc_y}, colors = ['black'])\n",
    "tp_scatt.default_size = 20\n",
    "\n",
    "tp_figure = Figure(marks = [tp_line, tp_scatt], axes = [tp_ax_x, tp_ax_y], title = 'Time Path for ' + state_selected)\n",
    "tp_figure"
   ]
  },
  {
   "cell_type": "markdown",
   "metadata": {},
   "source": [
    "## Time Series of Global Moran's I"
   ]
  },
  {
   "cell_type": "markdown",
   "metadata": {},
   "source": [
    "First, we need to calculate the Moran's I value for all years."
   ]
  },
  {
   "cell_type": "code",
   "execution_count": 23,
   "metadata": {},
   "outputs": [],
   "source": [
    "# Calculating Moran'I for every column\n",
    "morans = []\n",
    "for i in cols_to_calculate:\n",
    "    aux = ps.Moran(df_map[i], W).I\n",
    "    morans.append(aux)"
   ]
  },
  {
   "cell_type": "code",
   "execution_count": 24,
   "metadata": {},
   "outputs": [
    {
     "data": {
      "application/vnd.jupyter.widget-view+json": {
       "model_id": "930fe356836a4c789b5faf1e9c2e94e4",
       "version_major": 2,
       "version_minor": 0
      },
      "text/plain": [
       "Figure(axes=[Axis(label='Years', scale=LinearScale()), Axis(label=\"Moran's I\", orientation='vertical', scale=L…"
      ]
     },
     "metadata": {},
     "output_type": "display_data"
    }
   ],
   "source": [
    "ts_sc_x = LinearScale()\n",
    "ts_sc_y = LinearScale()\n",
    "\n",
    "moran_line = Lines(x = years, y = morans, scales={'x': ts_sc_x, 'y': ts_sc_y})\n",
    "moran_scatt = Scatter(x = years, y = morans, scales={'x': ts_sc_x, 'y': ts_sc_y}, colors=['black'])\n",
    "moran_scatt.default_size = 10\n",
    "\n",
    "ts_ax_x = Axis(scale = ts_sc_x, label='Years')\n",
    "ts_ax_y = Axis(scale = ts_sc_y, orientation='vertical', label='Moran\\'s I')\n",
    "\n",
    "ts_plot = Figure(marks=[moran_line, moran_scatt], axes=[ts_ax_x, ts_ax_y], title='Moran\\'s I Time Series plot')\n",
    "ts_plot"
   ]
  },
  {
   "cell_type": "markdown",
   "metadata": {},
   "source": [
    "## Density Plot"
   ]
  },
  {
   "cell_type": "markdown",
   "metadata": {},
   "source": [
    "First, let's estimate the density curve for a grid."
   ]
  },
  {
   "cell_type": "code",
   "execution_count": 25,
   "metadata": {},
   "outputs": [],
   "source": [
    "value_vetor = us_aux.Income.values\n",
    "kde1 = stats.gaussian_kde(value_vetor, bw_method = 'silverman')\n",
    "grid = np.linspace(start = min(value_vetor), stop = max(value_vetor), num = 10000)\n",
    "dens = kde1.evaluate(grid)"
   ]
  },
  {
   "cell_type": "code",
   "execution_count": 26,
   "metadata": {},
   "outputs": [
    {
     "data": {
      "application/vnd.jupyter.widget-view+json": {
       "model_id": "a0c41ec414274f948f6c34b3fbfe1816",
       "version_major": 2,
       "version_minor": 0
      },
      "text/plain": [
       "Figure(axes=[Axis(label='Values', scale=LinearScale()), Axis(label='Density', orientation='vertical', scale=Li…"
      ]
     },
     "metadata": {},
     "output_type": "display_data"
    }
   ],
   "source": [
    "dp_sc_x = LinearScale()\n",
    "dp_sc_y = LinearScale()\n",
    "\n",
    "density_line = Lines(x = grid, y = dens, scales={'x': dp_sc_x, 'y': dp_sc_y})\n",
    "dp_ax_x = Axis(scale = dp_sc_x, label = 'Values')\n",
    "dp_ax_y = Axis(scale = dp_sc_y, orientation = 'vertical', label = 'Density')\n",
    "\n",
    "density_plot = Figure(marks = [density_line], axes = [dp_ax_x, dp_ax_y], title = 'Density plot for ' + str(year))\n",
    "density_plot.interpolation = 'basis' # In order to make to curve smoother\n",
    "density_plot"
   ]
  },
  {
   "cell_type": "markdown",
   "metadata": {},
   "source": [
    "## Boxplot (with scatter markers)"
   ]
  },
  {
   "cell_type": "code",
   "execution_count": 27,
   "metadata": {},
   "outputs": [],
   "source": [
    "bp_sc_x = LinearScale(min = year - 1, max = year + 1)\n",
    "bp_sc_y = LinearScale(min = min(us_aux.Income.values).astype(float), max = max(us_aux.Income.values).astype(float))\n",
    "bp_ax_x = Axis(label='Year of ' + str(year), scale = bp_sc_x)\n",
    "bp_ax_y = Axis(label='Variable Label', scale = bp_sc_y, orientation='vertical')\n",
    "\n",
    "x_box = [year]\n",
    "boxes = Boxplot(x = x_box, y = [us_aux.Income.values], scales = {'x': bp_sc_x, 'y': bp_sc_y},\n",
    "                box_fill_color = 'gray', outlier_fill_color = 'black')"
   ]
  },
  {
   "cell_type": "code",
   "execution_count": 28,
   "metadata": {},
   "outputs": [
    {
     "data": {
      "application/vnd.jupyter.widget-view+json": {
       "model_id": "f598d1809f844d398fc3722a94ad31fc",
       "version_major": 2,
       "version_minor": 0
      },
      "text/plain": [
       "Figure(axes=[Axis(label='Year of 2000', scale=LinearScale(max=2001.0, min=1999.0), side='bottom'), Axis(label=…"
      ]
     },
     "metadata": {},
     "output_type": "display_data"
    }
   ],
   "source": [
    "# Boxplot with markers\n",
    "x_scat_box = [year] * len(us_aux.Income.values)\n",
    "y_scat_box = us_aux.Income.values.tolist()\n",
    "scatt_box = Scatter(x = x_scat_box, y = y_scat_box, scales={'x': bp_sc_x, 'y': bp_sc_y}, colors=['black'])\n",
    "scatt_box.default_size = 12\n",
    "bq.Figure(axes=[bp_ax_x, bp_ax_y], marks=[boxes, scatt_box], title = 'Boxplot of Income in '+ str(year))"
   ]
  },
  {
   "cell_type": "markdown",
   "metadata": {},
   "source": [
    "# Some interactions"
   ]
  },
  {
   "cell_type": "markdown",
   "metadata": {},
   "source": [
    "## Choropleth with Time Path"
   ]
  },
  {
   "cell_type": "code",
   "execution_count": 35,
   "metadata": {},
   "outputs": [],
   "source": [
    "def hover_callback(name, value):\n",
    "    state_hovered = value['data']['name']\n",
    "    us_tidy_aux = us_tidy[us_tidy.Name == state_hovered]\n",
    "    Var = us_tidy_aux.PCR\n",
    "    VarLag = us_tidy_aux.PCR_Lagged\n",
    "    tp_line.x = Var\n",
    "    tp_line.y = VarLag\n",
    "    tp_scatt.x = Var\n",
    "    tp_scatt.y = VarLag\n",
    "    tp_figure.title = 'Time Path for ' + state_hovered\n",
    "    \n",
    "choro_map = Map(map_data = base_json, **map_styles, tooltip=tp_figure)\n",
    "choro_map.on_hover(hover_callback)"
   ]
  },
  {
   "cell_type": "code",
   "execution_count": 36,
   "metadata": {},
   "outputs": [
    {
     "data": {
      "application/vnd.jupyter.widget-view+json": {
       "model_id": "d87e5b8c39234b68bff275a49118b918",
       "version_major": 2,
       "version_minor": 0
      },
      "text/plain": [
       "Figure(axes=[ColorAxis(scale=ColorScale(scheme='YlOrRd'))], fig_margin={'top': 0, 'bottom': 0, 'left': 0, 'rig…"
      ]
     },
     "metadata": {},
     "output_type": "display_data"
    }
   ],
   "source": [
    "Figure(marks=[choro_map], axes=[axis], title='Choropleth with TimePath', fig_margin={'top': 0, 'bottom': 0, 'left': 0, 'right': 0})"
   ]
  },
  {
   "cell_type": "code",
   "execution_count": null,
   "metadata": {},
   "outputs": [],
   "source": []
  }
 ],
 "metadata": {
  "kernelspec": {
   "display_name": "Python 3",
   "language": "python",
   "name": "python3"
  },
  "language_info": {
   "codemirror_mode": {
    "name": "ipython",
    "version": 3
   },
   "file_extension": ".py",
   "mimetype": "text/x-python",
   "name": "python",
   "nbconvert_exporter": "python",
   "pygments_lexer": "ipython3",
   "version": "3.6.6"
  }
 },
 "nbformat": 4,
 "nbformat_minor": 2
}
